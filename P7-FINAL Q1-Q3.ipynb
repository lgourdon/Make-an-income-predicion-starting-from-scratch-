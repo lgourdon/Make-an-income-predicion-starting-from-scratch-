{
 "cells": [
  {
   "cell_type": "markdown",
   "metadata": {
    "toc": true
   },
   "source": [
    "<h1>Table des matières<span class=\"tocSkip\"></span></h1>\n",
    "<div class=\"toc\"><ul class=\"toc-item\"><li><span><a href=\"#Mission-1\" data-toc-modified-id=\"Mission-1-1\"><span class=\"toc-item-num\">1&nbsp;&nbsp;</span>Mission 1</a></span><ul class=\"toc-item\"><li><span><a href=\"#Fichier-'data-projet7.csv'-(World-Income-Distribution)\" data-toc-modified-id=\"Fichier-'data-projet7.csv'-(World-Income-Distribution)-1.1\"><span class=\"toc-item-num\">1.1&nbsp;&nbsp;</span>Fichier 'data-projet7.csv' (World Income Distribution)</a></span></li><li><span><a href=\"#GDP-per-capita-2008-($ppp)\" data-toc-modified-id=\"GDP-per-capita-2008-($ppp)-1.2\"><span class=\"toc-item-num\">1.2&nbsp;&nbsp;</span>GDP per capita 2008 ($ppp)</a></span></li><li><span><a href=\"#Population-2008-(Millions)\" data-toc-modified-id=\"Population-2008-(Millions)-1.3\"><span class=\"toc-item-num\">1.3&nbsp;&nbsp;</span>Population 2008 (Millions)</a></span></li><li><span><a href=\"#Nomenclature-pays-FAOSTAT~ISO3\" data-toc-modified-id=\"Nomenclature-pays-FAOSTAT~ISO3-1.4\"><span class=\"toc-item-num\">1.4&nbsp;&nbsp;</span>Nomenclature pays FAOSTAT~ISO3</a></span></li><li><span><a href=\"#Fichier-consolidé-World-Income-Distribution-(WID)\" data-toc-modified-id=\"Fichier-consolidé-World-Income-Distribution-(WID)-1.5\"><span class=\"toc-item-num\">1.5&nbsp;&nbsp;</span>Fichier consolidé World Income Distribution (WID)</a></span></li><li><span><a href=\"#Conclusions\" data-toc-modified-id=\"Conclusions-1.6\"><span class=\"toc-item-num\">1.6&nbsp;&nbsp;</span>Conclusions</a></span></li></ul></li><li><span><a href=\"#Mission-2\" data-toc-modified-id=\"Mission-2-2\"><span class=\"toc-item-num\">2&nbsp;&nbsp;</span>Mission 2</a></span><ul class=\"toc-item\"><li><span><a href=\"#Choix-des-pays-à-représenter\" data-toc-modified-id=\"Choix-des-pays-à-représenter-2.1\"><span class=\"toc-item-num\">2.1&nbsp;&nbsp;</span>Choix des pays à représenter</a></span></li><li><span><a href=\"#Distribution-des-revenus\" data-toc-modified-id=\"Distribution-des-revenus-2.2\"><span class=\"toc-item-num\">2.2&nbsp;&nbsp;</span>Distribution des revenus</a></span></li><li><span><a href=\"#Courbes-de-Lorenz\" data-toc-modified-id=\"Courbes-de-Lorenz-2.3\"><span class=\"toc-item-num\">2.3&nbsp;&nbsp;</span>Courbes de Lorenz</a></span></li><li><span><a href=\"#Evolution-de-l'indice-Gini\" data-toc-modified-id=\"Evolution-de-l'indice-Gini-2.4\"><span class=\"toc-item-num\">2.4&nbsp;&nbsp;</span>Evolution de l'indice Gini</a></span></li><li><span><a href=\"#Classement-par-indice-Gini\" data-toc-modified-id=\"Classement-par-indice-Gini-2.5\"><span class=\"toc-item-num\">2.5&nbsp;&nbsp;</span>Classement par indice Gini</a></span></li></ul></li><li><span><a href=\"#Mission-3\" data-toc-modified-id=\"Mission-3-3\"><span class=\"toc-item-num\">3&nbsp;&nbsp;</span>Mission 3</a></span><ul class=\"toc-item\"><li><span><a href=\"#Création-du-df-Elasticity\" data-toc-modified-id=\"Création-du-df-Elasticity-3.1\"><span class=\"toc-item-num\">3.1&nbsp;&nbsp;</span>Création du df Elasticity</a></span></li><li><span><a href=\"#Génération-de-l'échantillon-Gaussien\" data-toc-modified-id=\"Génération-de-l'échantillon-Gaussien-3.2\"><span class=\"toc-item-num\">3.2&nbsp;&nbsp;</span>Génération de l'échantillon Gaussien</a></span></li><li><span><a href=\"#Graphiques-distributions-conditionnelles\" data-toc-modified-id=\"Graphiques-distributions-conditionnelles-3.3\"><span class=\"toc-item-num\">3.3&nbsp;&nbsp;</span>Graphiques distributions conditionnelles</a></span></li><li><span><a href=\"#Création-du-dataframe-final\" data-toc-modified-id=\"Création-du-dataframe-final-3.4\"><span class=\"toc-item-num\">3.4&nbsp;&nbsp;</span>Création du dataframe final</a></span></li></ul></li></ul></div>"
   ]
  },
  {
   "cell_type": "code",
   "execution_count": 1,
   "metadata": {},
   "outputs": [],
   "source": [
    "import sample_generator_new as sg\n",
    "\n",
    "import numpy as np                # linear algebra\n",
    "import pandas as pd               # data frames\n",
    "\n",
    "import matplotlib.pyplot as plt   # visualizations\n",
    "import seaborn as sns             # visualizations\n",
    "%matplotlib inline\n",
    "\n",
    "from scipy import stats\n",
    "\n",
    "import statsmodels.api as sm\n",
    "import statsmodels.formula.api as smf\n",
    "from statsmodels.compat import lzip\n",
    "from statsmodels.graphics.gofplots import ProbPlot\n",
    "\n",
    "from sklearn import datasets, linear_model\n",
    "from sklearn.linear_model import LinearRegression\n",
    "from sklearn.metrics import mean_squared_error, r2_score\n",
    "from sklearn.model_selection import train_test_split"
   ]
  },
  {
   "cell_type": "code",
   "execution_count": 2,
   "metadata": {},
   "outputs": [],
   "source": [
    "# thousands separator ',' and 2 décimals\n",
    "pd.options.display.float_format = '{:.2f}'.format"
   ]
  },
  {
   "cell_type": "markdown",
   "metadata": {},
   "source": [
    "# Mission 1"
   ]
  },
  {
   "cell_type": "markdown",
   "metadata": {},
   "source": [
    "## Fichier 'data-projet7.csv' (World Income Distribution)"
   ]
  },
  {
   "cell_type": "code",
   "execution_count": 3,
   "metadata": {},
   "outputs": [
    {
     "data": {
      "text/html": [
       "<div>\n",
       "<style scoped>\n",
       "    .dataframe tbody tr th:only-of-type {\n",
       "        vertical-align: middle;\n",
       "    }\n",
       "\n",
       "    .dataframe tbody tr th {\n",
       "        vertical-align: top;\n",
       "    }\n",
       "\n",
       "    .dataframe thead th {\n",
       "        text-align: right;\n",
       "    }\n",
       "</style>\n",
       "<table border=\"1\" class=\"dataframe\">\n",
       "  <thead>\n",
       "    <tr style=\"text-align: right;\">\n",
       "      <th></th>\n",
       "      <th>country</th>\n",
       "      <th>year_survey</th>\n",
       "      <th>quantile</th>\n",
       "      <th>nb_quantiles</th>\n",
       "      <th>income</th>\n",
       "      <th>gdpppp</th>\n",
       "    </tr>\n",
       "  </thead>\n",
       "  <tbody>\n",
       "    <tr>\n",
       "      <th>0</th>\n",
       "      <td>ALB</td>\n",
       "      <td>2008</td>\n",
       "      <td>1</td>\n",
       "      <td>100</td>\n",
       "      <td>728,89795</td>\n",
       "      <td>7297</td>\n",
       "    </tr>\n",
       "  </tbody>\n",
       "</table>\n",
       "</div>"
      ],
      "text/plain": [
       "  country  year_survey  quantile  nb_quantiles     income gdpppp\n",
       "0     ALB         2008         1           100  728,89795   7297"
      ]
     },
     "execution_count": 3,
     "metadata": {},
     "output_type": "execute_result"
    }
   ],
   "source": [
    "# import data\n",
    "data = pd.read_csv('data/data-projet7.csv', sep=',')\n",
    "data.head(1)"
   ]
  },
  {
   "cell_type": "markdown",
   "metadata": {},
   "source": [
    "**Conversion de 'income' et 'gdpppp' à float**"
   ]
  },
  {
   "cell_type": "code",
   "execution_count": 4,
   "metadata": {},
   "outputs": [],
   "source": [
    "# income: conversion à float\n",
    "data['income'] = data['income'].str.replace(',', '.', regex=False)\n",
    "data['income'] = pd.to_numeric(data['income'], errors='coerce')\n",
    "\n",
    "# gdpppp: convertion à float\n",
    "data['gdpppp'] = data['gdpppp'].str.replace(',', '.', regex=False)\n",
    "data['gdpppp'] = pd.to_numeric(data['gdpppp'], errors='coerce')"
   ]
  },
  {
   "cell_type": "code",
   "execution_count": 5,
   "metadata": {},
   "outputs": [
    {
     "name": "stdout",
     "output_type": "stream",
     "text": [
      "Nombre de pays : 116\n",
      "Nombre d'individus : 11599\n"
     ]
    },
    {
     "data": {
      "text/html": [
       "<div>\n",
       "<style scoped>\n",
       "    .dataframe tbody tr th:only-of-type {\n",
       "        vertical-align: middle;\n",
       "    }\n",
       "\n",
       "    .dataframe tbody tr th {\n",
       "        vertical-align: top;\n",
       "    }\n",
       "\n",
       "    .dataframe thead th {\n",
       "        text-align: right;\n",
       "    }\n",
       "</style>\n",
       "<table border=\"1\" class=\"dataframe\">\n",
       "  <thead>\n",
       "    <tr style=\"text-align: right;\">\n",
       "      <th></th>\n",
       "      <th>income</th>\n",
       "      <th>gdpppp</th>\n",
       "    </tr>\n",
       "  </thead>\n",
       "  <tbody>\n",
       "    <tr>\n",
       "      <th>count</th>\n",
       "      <td>11599.00</td>\n",
       "      <td>11399.00</td>\n",
       "    </tr>\n",
       "    <tr>\n",
       "      <th>mean</th>\n",
       "      <td>6069.22</td>\n",
       "      <td>50221.28</td>\n",
       "    </tr>\n",
       "    <tr>\n",
       "      <th>std</th>\n",
       "      <td>9414.19</td>\n",
       "      <td>400068.75</td>\n",
       "    </tr>\n",
       "    <tr>\n",
       "      <th>min</th>\n",
       "      <td>16.72</td>\n",
       "      <td>303.19</td>\n",
       "    </tr>\n",
       "    <tr>\n",
       "      <th>25%</th>\n",
       "      <td>900.69</td>\n",
       "      <td>2576.00</td>\n",
       "    </tr>\n",
       "    <tr>\n",
       "      <th>50%</th>\n",
       "      <td>2403.24</td>\n",
       "      <td>7560.00</td>\n",
       "    </tr>\n",
       "    <tr>\n",
       "      <th>75%</th>\n",
       "      <td>7515.42</td>\n",
       "      <td>18773.00</td>\n",
       "    </tr>\n",
       "    <tr>\n",
       "      <th>max</th>\n",
       "      <td>176928.55</td>\n",
       "      <td>4300332.00</td>\n",
       "    </tr>\n",
       "  </tbody>\n",
       "</table>\n",
       "</div>"
      ],
      "text/plain": [
       "         income     gdpppp\n",
       "count  11599.00   11399.00\n",
       "mean    6069.22   50221.28\n",
       "std     9414.19  400068.75\n",
       "min       16.72     303.19\n",
       "25%      900.69    2576.00\n",
       "50%     2403.24    7560.00\n",
       "75%     7515.42   18773.00\n",
       "max   176928.55 4300332.00"
      ]
     },
     "execution_count": 5,
     "metadata": {},
     "output_type": "execute_result"
    }
   ],
   "source": [
    "print(\"Nombre de pays :\", data.country.nunique())\n",
    "print(\"Nombre d'individus :\", data.country.count())\n",
    "data[['income','gdpppp']].describe()"
   ]
  },
  {
   "cell_type": "markdown",
   "metadata": {},
   "source": [
    "**Observations** \n",
    "* s'il y a 100 quantiles par pays, il manque un quantile dans l'un des pays de notre distribution (116*100=11600)\n",
    "* La variable gdp (dollars ppp) montre un Max et une standard deviation anormaux. Nous allons la remplacer par les données de la World Bank (2008)"
   ]
  },
  {
   "cell_type": "markdown",
   "metadata": {},
   "source": [
    "**Années d'enquête**"
   ]
  },
  {
   "cell_type": "code",
   "execution_count": 6,
   "metadata": {},
   "outputs": [
    {
     "data": {
      "text/html": [
       "<div>\n",
       "<style scoped>\n",
       "    .dataframe tbody tr th:only-of-type {\n",
       "        vertical-align: middle;\n",
       "    }\n",
       "\n",
       "    .dataframe tbody tr th {\n",
       "        vertical-align: top;\n",
       "    }\n",
       "\n",
       "    .dataframe thead th {\n",
       "        text-align: right;\n",
       "    }\n",
       "</style>\n",
       "<table border=\"1\" class=\"dataframe\">\n",
       "  <thead>\n",
       "    <tr style=\"text-align: right;\">\n",
       "      <th></th>\n",
       "      <th>nb_ctry</th>\n",
       "    </tr>\n",
       "    <tr>\n",
       "      <th>year_survey</th>\n",
       "      <th></th>\n",
       "    </tr>\n",
       "  </thead>\n",
       "  <tbody>\n",
       "    <tr>\n",
       "      <th>2004</th>\n",
       "      <td>1</td>\n",
       "    </tr>\n",
       "    <tr>\n",
       "      <th>2006</th>\n",
       "      <td>5</td>\n",
       "    </tr>\n",
       "    <tr>\n",
       "      <th>2007</th>\n",
       "      <td>15</td>\n",
       "    </tr>\n",
       "    <tr>\n",
       "      <th>2008</th>\n",
       "      <td>76</td>\n",
       "    </tr>\n",
       "    <tr>\n",
       "      <th>2009</th>\n",
       "      <td>12</td>\n",
       "    </tr>\n",
       "    <tr>\n",
       "      <th>2010</th>\n",
       "      <td>6</td>\n",
       "    </tr>\n",
       "    <tr>\n",
       "      <th>2011</th>\n",
       "      <td>1</td>\n",
       "    </tr>\n",
       "  </tbody>\n",
       "</table>\n",
       "</div>"
      ],
      "text/plain": [
       "             nb_ctry\n",
       "year_survey         \n",
       "2004               1\n",
       "2006               5\n",
       "2007              15\n",
       "2008              76\n",
       "2009              12\n",
       "2010               6\n",
       "2011               1"
      ]
     },
     "execution_count": 6,
     "metadata": {},
     "output_type": "execute_result"
    }
   ],
   "source": [
    "# table year_survey\n",
    "ys=data.groupby(['year_survey']).country.nunique().reset_index()\n",
    "ys.set_index('year_survey',inplace=True)\n",
    "ys.rename(columns={'country':'nb_ctry'},  inplace = True)\n",
    "ys"
   ]
  },
  {
   "cell_type": "markdown",
   "metadata": {},
   "source": [
    "**Supression de variables et renommage**"
   ]
  },
  {
   "cell_type": "code",
   "execution_count": 7,
   "metadata": {},
   "outputs": [
    {
     "name": "stdout",
     "output_type": "stream",
     "text": [
      "Nombre d'individus : 11599\n"
     ]
    },
    {
     "data": {
      "text/html": [
       "<div>\n",
       "<style scoped>\n",
       "    .dataframe tbody tr th:only-of-type {\n",
       "        vertical-align: middle;\n",
       "    }\n",
       "\n",
       "    .dataframe tbody tr th {\n",
       "        vertical-align: top;\n",
       "    }\n",
       "\n",
       "    .dataframe thead th {\n",
       "        text-align: right;\n",
       "    }\n",
       "</style>\n",
       "<table border=\"1\" class=\"dataframe\">\n",
       "  <thead>\n",
       "    <tr style=\"text-align: right;\">\n",
       "      <th></th>\n",
       "      <th>ISO3</th>\n",
       "      <th>classe_c</th>\n",
       "      <th>income_c</th>\n",
       "    </tr>\n",
       "  </thead>\n",
       "  <tbody>\n",
       "    <tr>\n",
       "      <th>0</th>\n",
       "      <td>ALB</td>\n",
       "      <td>1</td>\n",
       "      <td>728.90</td>\n",
       "    </tr>\n",
       "  </tbody>\n",
       "</table>\n",
       "</div>"
      ],
      "text/plain": [
       "  ISO3  classe_c  income_c\n",
       "0  ALB         1    728.90"
      ]
     },
     "execution_count": 7,
     "metadata": {},
     "output_type": "execute_result"
    }
   ],
   "source": [
    "#data-projet7.csv\n",
    "data.drop(['year_survey','nb_quantiles','gdpppp'],axis=1,inplace=True)\n",
    "data.rename(columns={'country':'ISO3','quantile':'classe_c','income':'income_c'},  inplace = True)\n",
    "print(\"Nombre d'individus :\", data.ISO3.count())\n",
    "data.head(1)"
   ]
  },
  {
   "cell_type": "markdown",
   "metadata": {},
   "source": [
    "## GDP per capita 2008 ($ppp)\n",
    "https://data.worldbank.org/indicator/NY.GDP.PCAP.PP.CD"
   ]
  },
  {
   "cell_type": "code",
   "execution_count": 8,
   "metadata": {},
   "outputs": [
    {
     "name": "stdout",
     "output_type": "stream",
     "text": [
      "Nombre d'individus : 240\n"
     ]
    },
    {
     "data": {
      "text/html": [
       "<div>\n",
       "<style scoped>\n",
       "    .dataframe tbody tr th:only-of-type {\n",
       "        vertical-align: middle;\n",
       "    }\n",
       "\n",
       "    .dataframe tbody tr th {\n",
       "        vertical-align: top;\n",
       "    }\n",
       "\n",
       "    .dataframe thead th {\n",
       "        text-align: right;\n",
       "    }\n",
       "</style>\n",
       "<table border=\"1\" class=\"dataframe\">\n",
       "  <thead>\n",
       "    <tr style=\"text-align: right;\">\n",
       "      <th></th>\n",
       "      <th>ISO3</th>\n",
       "      <th>gdp_pc</th>\n",
       "    </tr>\n",
       "  </thead>\n",
       "  <tbody>\n",
       "    <tr>\n",
       "      <th>0</th>\n",
       "      <td>ABW</td>\n",
       "      <td>38515.26</td>\n",
       "    </tr>\n",
       "  </tbody>\n",
       "</table>\n",
       "</div>"
      ],
      "text/plain": [
       "  ISO3   gdp_pc\n",
       "0  ABW 38515.26"
      ]
     },
     "execution_count": 8,
     "metadata": {},
     "output_type": "execute_result"
    }
   ],
   "source": [
    "# import data\n",
    "gdp = pd.read_excel('data/gdp_pc_ppp.xlsx', usecols=['Country Code','gdp_pc'])\n",
    "gdp.rename(columns={'Country Code':'ISO3'},  inplace = True)\n",
    "print(\"Nombre d'individus :\", gdp.ISO3.count())\n",
    "gdp.head(1)"
   ]
  },
  {
   "cell_type": "markdown",
   "metadata": {},
   "source": [
    "## Population 2008 (Millions)\n",
    "https://data.worldbank.org/indicator/sp.pop.totl"
   ]
  },
  {
   "cell_type": "code",
   "execution_count": 9,
   "metadata": {},
   "outputs": [
    {
     "name": "stdout",
     "output_type": "stream",
     "text": [
      "Nombre d'individus : 231\n"
     ]
    },
    {
     "data": {
      "text/html": [
       "<div>\n",
       "<style scoped>\n",
       "    .dataframe tbody tr th:only-of-type {\n",
       "        vertical-align: middle;\n",
       "    }\n",
       "\n",
       "    .dataframe tbody tr th {\n",
       "        vertical-align: top;\n",
       "    }\n",
       "\n",
       "    .dataframe thead th {\n",
       "        text-align: right;\n",
       "    }\n",
       "</style>\n",
       "<table border=\"1\" class=\"dataframe\">\n",
       "  <thead>\n",
       "    <tr style=\"text-align: right;\">\n",
       "      <th></th>\n",
       "      <th>FAOSTAT</th>\n",
       "      <th>population</th>\n",
       "    </tr>\n",
       "  </thead>\n",
       "  <tbody>\n",
       "    <tr>\n",
       "      <th>0</th>\n",
       "      <td>2</td>\n",
       "      <td>27.29</td>\n",
       "    </tr>\n",
       "  </tbody>\n",
       "</table>\n",
       "</div>"
      ],
      "text/plain": [
       "   FAOSTAT  population\n",
       "0        2       27.29"
      ]
     },
     "execution_count": 9,
     "metadata": {},
     "output_type": "execute_result"
    }
   ],
   "source": [
    "# import de la population mondiale 2008 de la FAO\n",
    "population = pd.read_csv('data/popfao_2008.csv', usecols=['Code zone','Valeur'])\n",
    "population.rename(columns={'Code zone':'FAOSTAT','Valeur':'population'},  inplace = True)\n",
    "# conversion de 'population' en millions\n",
    "population['population']=population['population']/1000\n",
    "\n",
    "print(\"Nombre d'individus :\",population.FAOSTAT.count())\n",
    "population.head(1)"
   ]
  },
  {
   "cell_type": "markdown",
   "metadata": {},
   "source": [
    "## Nomenclature pays FAOSTAT~ISO3"
   ]
  },
  {
   "cell_type": "code",
   "execution_count": 10,
   "metadata": {},
   "outputs": [
    {
     "name": "stdout",
     "output_type": "stream",
     "text": [
      "Nombre d'individus : 197\n"
     ]
    },
    {
     "data": {
      "text/html": [
       "<div>\n",
       "<style scoped>\n",
       "    .dataframe tbody tr th:only-of-type {\n",
       "        vertical-align: middle;\n",
       "    }\n",
       "\n",
       "    .dataframe tbody tr th {\n",
       "        vertical-align: top;\n",
       "    }\n",
       "\n",
       "    .dataframe thead th {\n",
       "        text-align: right;\n",
       "    }\n",
       "</style>\n",
       "<table border=\"1\" class=\"dataframe\">\n",
       "  <thead>\n",
       "    <tr style=\"text-align: right;\">\n",
       "      <th></th>\n",
       "      <th>ISO3</th>\n",
       "      <th>country</th>\n",
       "      <th>FAOSTAT</th>\n",
       "    </tr>\n",
       "  </thead>\n",
       "  <tbody>\n",
       "    <tr>\n",
       "      <th>0</th>\n",
       "      <td>ARM</td>\n",
       "      <td>Armenia</td>\n",
       "      <td>1</td>\n",
       "    </tr>\n",
       "  </tbody>\n",
       "</table>\n",
       "</div>"
      ],
      "text/plain": [
       "  ISO3  country  FAOSTAT\n",
       "0  ARM  Armenia        1"
      ]
     },
     "execution_count": 10,
     "metadata": {},
     "output_type": "execute_result"
    }
   ],
   "source": [
    "# import de la nomenclature pays (FAO)\n",
    "key = pd.read_excel('data/ctry_keys.xls')\n",
    "key.columns=['ISO3','country','FAOSTAT']\n",
    "print(\"Nombre d'individus :\",key.FAOSTAT.count())\n",
    "key.head(1)"
   ]
  },
  {
   "cell_type": "markdown",
   "metadata": {},
   "source": [
    "**Merge des tables pays, nomenclature et population**"
   ]
  },
  {
   "cell_type": "code",
   "execution_count": 11,
   "metadata": {},
   "outputs": [
    {
     "data": {
      "text/html": [
       "<div>\n",
       "<style scoped>\n",
       "    .dataframe tbody tr th:only-of-type {\n",
       "        vertical-align: middle;\n",
       "    }\n",
       "\n",
       "    .dataframe tbody tr th {\n",
       "        vertical-align: top;\n",
       "    }\n",
       "\n",
       "    .dataframe thead th {\n",
       "        text-align: right;\n",
       "    }\n",
       "</style>\n",
       "<table border=\"1\" class=\"dataframe\">\n",
       "  <thead>\n",
       "    <tr style=\"text-align: right;\">\n",
       "      <th></th>\n",
       "      <th>ISO3</th>\n",
       "      <th>classe_c</th>\n",
       "      <th>income_c</th>\n",
       "      <th>country</th>\n",
       "      <th>FAOSTAT</th>\n",
       "    </tr>\n",
       "  </thead>\n",
       "  <tbody>\n",
       "    <tr>\n",
       "      <th>0</th>\n",
       "      <td>ALB</td>\n",
       "      <td>1</td>\n",
       "      <td>728.90</td>\n",
       "      <td>Albania</td>\n",
       "      <td>3.00</td>\n",
       "    </tr>\n",
       "    <tr>\n",
       "      <th>1</th>\n",
       "      <td>ALB</td>\n",
       "      <td>2</td>\n",
       "      <td>916.66</td>\n",
       "      <td>Albania</td>\n",
       "      <td>3.00</td>\n",
       "    </tr>\n",
       "    <tr>\n",
       "      <th>2</th>\n",
       "      <td>ALB</td>\n",
       "      <td>3</td>\n",
       "      <td>1010.92</td>\n",
       "      <td>Albania</td>\n",
       "      <td>3.00</td>\n",
       "    </tr>\n",
       "    <tr>\n",
       "      <th>3</th>\n",
       "      <td>ALB</td>\n",
       "      <td>4</td>\n",
       "      <td>1086.91</td>\n",
       "      <td>Albania</td>\n",
       "      <td>3.00</td>\n",
       "    </tr>\n",
       "    <tr>\n",
       "      <th>4</th>\n",
       "      <td>ALB</td>\n",
       "      <td>5</td>\n",
       "      <td>1132.70</td>\n",
       "      <td>Albania</td>\n",
       "      <td>3.00</td>\n",
       "    </tr>\n",
       "  </tbody>\n",
       "</table>\n",
       "</div>"
      ],
      "text/plain": [
       "  ISO3  classe_c  income_c  country  FAOSTAT\n",
       "0  ALB         1    728.90  Albania     3.00\n",
       "1  ALB         2    916.66  Albania     3.00\n",
       "2  ALB         3   1010.92  Albania     3.00\n",
       "3  ALB         4   1086.91  Albania     3.00\n",
       "4  ALB         5   1132.70  Albania     3.00"
      ]
     },
     "execution_count": 11,
     "metadata": {},
     "output_type": "execute_result"
    }
   ],
   "source": [
    "# left join ctry_list, key\n",
    "lj = pd.merge(data, key, how = 'left', on='ISO3')\n",
    "lj.head()"
   ]
  },
  {
   "cell_type": "code",
   "execution_count": 12,
   "metadata": {},
   "outputs": [
    {
     "name": "stdout",
     "output_type": "stream",
     "text": [
      "Nombre d'individus : 11599\n"
     ]
    },
    {
     "data": {
      "text/html": [
       "<div>\n",
       "<style scoped>\n",
       "    .dataframe tbody tr th:only-of-type {\n",
       "        vertical-align: middle;\n",
       "    }\n",
       "\n",
       "    .dataframe tbody tr th {\n",
       "        vertical-align: top;\n",
       "    }\n",
       "\n",
       "    .dataframe thead th {\n",
       "        text-align: right;\n",
       "    }\n",
       "</style>\n",
       "<table border=\"1\" class=\"dataframe\">\n",
       "  <thead>\n",
       "    <tr style=\"text-align: right;\">\n",
       "      <th></th>\n",
       "      <th>ISO3</th>\n",
       "      <th>classe_c</th>\n",
       "      <th>income_c</th>\n",
       "      <th>country</th>\n",
       "      <th>population</th>\n",
       "    </tr>\n",
       "  </thead>\n",
       "  <tbody>\n",
       "    <tr>\n",
       "      <th>0</th>\n",
       "      <td>ALB</td>\n",
       "      <td>1</td>\n",
       "      <td>728.90</td>\n",
       "      <td>Albania</td>\n",
       "      <td>2.99</td>\n",
       "    </tr>\n",
       "    <tr>\n",
       "      <th>1</th>\n",
       "      <td>ALB</td>\n",
       "      <td>2</td>\n",
       "      <td>916.66</td>\n",
       "      <td>Albania</td>\n",
       "      <td>2.99</td>\n",
       "    </tr>\n",
       "  </tbody>\n",
       "</table>\n",
       "</div>"
      ],
      "text/plain": [
       "  ISO3  classe_c  income_c  country  population\n",
       "0  ALB         1    728.90  Albania        2.99\n",
       "1  ALB         2    916.66  Albania        2.99"
      ]
     },
     "execution_count": 12,
     "metadata": {},
     "output_type": "execute_result"
    }
   ],
   "source": [
    "# left join lj, population\n",
    "pop = pd.merge(lj, population, how = 'left', on='FAOSTAT')\n",
    "del pop['FAOSTAT']\n",
    "print(\"Nombre d'individus :\",pop.ISO3.count())\n",
    "pop.head(2)"
   ]
  },
  {
   "cell_type": "markdown",
   "metadata": {},
   "source": [
    "## Fichier consolidé World Income Distribution (WID)"
   ]
  },
  {
   "cell_type": "markdown",
   "metadata": {},
   "source": [
    "**Merge et nettoyage**"
   ]
  },
  {
   "cell_type": "code",
   "execution_count": 13,
   "metadata": {},
   "outputs": [
    {
     "data": {
      "text/html": [
       "<div>\n",
       "<style scoped>\n",
       "    .dataframe tbody tr th:only-of-type {\n",
       "        vertical-align: middle;\n",
       "    }\n",
       "\n",
       "    .dataframe tbody tr th {\n",
       "        vertical-align: top;\n",
       "    }\n",
       "\n",
       "    .dataframe thead th {\n",
       "        text-align: right;\n",
       "    }\n",
       "</style>\n",
       "<table border=\"1\" class=\"dataframe\">\n",
       "  <thead>\n",
       "    <tr style=\"text-align: right;\">\n",
       "      <th></th>\n",
       "      <th>ISO3</th>\n",
       "      <th>classe_c</th>\n",
       "      <th>income_c</th>\n",
       "      <th>country</th>\n",
       "      <th>population</th>\n",
       "      <th>gdp_pc</th>\n",
       "    </tr>\n",
       "  </thead>\n",
       "  <tbody>\n",
       "    <tr>\n",
       "      <th>0</th>\n",
       "      <td>ALB</td>\n",
       "      <td>1</td>\n",
       "      <td>728.90</td>\n",
       "      <td>Albania</td>\n",
       "      <td>2.99</td>\n",
       "      <td>8228.37</td>\n",
       "    </tr>\n",
       "  </tbody>\n",
       "</table>\n",
       "</div>"
      ],
      "text/plain": [
       "  ISO3  classe_c  income_c  country  population  gdp_pc\n",
       "0  ALB         1    728.90  Albania        2.99 8228.37"
      ]
     },
     "execution_count": 13,
     "metadata": {},
     "output_type": "execute_result"
    }
   ],
   "source": [
    "# left join cons, gdp\n",
    "consolidation = pd.merge(pop, gdp, how = 'left', on='ISO3')\n",
    "consolidation.head(1)"
   ]
  },
  {
   "cell_type": "code",
   "execution_count": 14,
   "metadata": {},
   "outputs": [
    {
     "data": {
      "text/html": [
       "<div>\n",
       "<style scoped>\n",
       "    .dataframe tbody tr th:only-of-type {\n",
       "        vertical-align: middle;\n",
       "    }\n",
       "\n",
       "    .dataframe tbody tr th {\n",
       "        vertical-align: top;\n",
       "    }\n",
       "\n",
       "    .dataframe thead th {\n",
       "        text-align: right;\n",
       "    }\n",
       "</style>\n",
       "<table border=\"1\" class=\"dataframe\">\n",
       "  <thead>\n",
       "    <tr style=\"text-align: right;\">\n",
       "      <th></th>\n",
       "      <th>ISO3</th>\n",
       "      <th>classe_c</th>\n",
       "      <th>income_c</th>\n",
       "      <th>country</th>\n",
       "      <th>population</th>\n",
       "      <th>gdp_pc</th>\n",
       "    </tr>\n",
       "  </thead>\n",
       "  <tbody>\n",
       "    <tr>\n",
       "      <th>5800</th>\n",
       "      <td>XKX</td>\n",
       "      <td>1</td>\n",
       "      <td>437.89</td>\n",
       "      <td>NaN</td>\n",
       "      <td>nan</td>\n",
       "      <td>7236.41</td>\n",
       "    </tr>\n",
       "    <tr>\n",
       "      <th>5801</th>\n",
       "      <td>XKX</td>\n",
       "      <td>2</td>\n",
       "      <td>508.17</td>\n",
       "      <td>NaN</td>\n",
       "      <td>nan</td>\n",
       "      <td>7236.41</td>\n",
       "    </tr>\n",
       "  </tbody>\n",
       "</table>\n",
       "</div>"
      ],
      "text/plain": [
       "     ISO3  classe_c  income_c country  population  gdp_pc\n",
       "5800  XKX         1    437.89     NaN         nan 7236.41\n",
       "5801  XKX         2    508.17     NaN         nan 7236.41"
      ]
     },
     "execution_count": 14,
     "metadata": {},
     "output_type": "execute_result"
    }
   ],
   "source": [
    "# check NaN\n",
    "na = consolidation[consolidation.isnull().any(axis=1)]\n",
    "na.head(2)"
   ]
  },
  {
   "cell_type": "code",
   "execution_count": 15,
   "metadata": {},
   "outputs": [
    {
     "data": {
      "text/html": [
       "<div>\n",
       "<style scoped>\n",
       "    .dataframe tbody tr th:only-of-type {\n",
       "        vertical-align: middle;\n",
       "    }\n",
       "\n",
       "    .dataframe tbody tr th {\n",
       "        vertical-align: top;\n",
       "    }\n",
       "\n",
       "    .dataframe thead th {\n",
       "        text-align: right;\n",
       "    }\n",
       "</style>\n",
       "<table border=\"1\" class=\"dataframe\">\n",
       "  <thead>\n",
       "    <tr style=\"text-align: right;\">\n",
       "      <th></th>\n",
       "      <th>ISO3</th>\n",
       "      <th>classe_c</th>\n",
       "      <th>income_c</th>\n",
       "      <th>country</th>\n",
       "      <th>population</th>\n",
       "      <th>gdp_pc</th>\n",
       "    </tr>\n",
       "  </thead>\n",
       "  <tbody>\n",
       "    <tr>\n",
       "      <th>0</th>\n",
       "      <td>ALB</td>\n",
       "      <td>1</td>\n",
       "      <td>728.90</td>\n",
       "      <td>Albania</td>\n",
       "      <td>2.99</td>\n",
       "      <td>8228.37</td>\n",
       "    </tr>\n",
       "  </tbody>\n",
       "</table>\n",
       "</div>"
      ],
      "text/plain": [
       "  ISO3  classe_c  income_c  country  population  gdp_pc\n",
       "0  ALB         1    728.90  Albania        2.99 8228.37"
      ]
     },
     "execution_count": 15,
     "metadata": {},
     "output_type": "execute_result"
    }
   ],
   "source": [
    "# drop NaN\n",
    "consolidation.dropna(inplace=True)\n",
    "#consolidation=consolidation[['ISO3','country','population', 'classe_c', 'income_c','gdp_pc']]\n",
    "consolidation.head(1)"
   ]
  },
  {
   "cell_type": "code",
   "execution_count": 16,
   "metadata": {},
   "outputs": [
    {
     "data": {
      "text/html": [
       "<div>\n",
       "<style scoped>\n",
       "    .dataframe tbody tr th:only-of-type {\n",
       "        vertical-align: middle;\n",
       "    }\n",
       "\n",
       "    .dataframe tbody tr th {\n",
       "        vertical-align: top;\n",
       "    }\n",
       "\n",
       "    .dataframe thead th {\n",
       "        text-align: right;\n",
       "    }\n",
       "</style>\n",
       "<table border=\"1\" class=\"dataframe\">\n",
       "  <thead>\n",
       "    <tr style=\"text-align: right;\">\n",
       "      <th></th>\n",
       "      <th>ISO3</th>\n",
       "      <th>classe_c</th>\n",
       "      <th>income_c</th>\n",
       "      <th>country</th>\n",
       "      <th>population</th>\n",
       "      <th>gdp_pc</th>\n",
       "    </tr>\n",
       "  </thead>\n",
       "  <tbody>\n",
       "    <tr>\n",
       "      <th>0</th>\n",
       "      <td>ALB</td>\n",
       "      <td>1</td>\n",
       "      <td>728.90</td>\n",
       "      <td>Albania</td>\n",
       "      <td>2.99</td>\n",
       "      <td>8228.37</td>\n",
       "    </tr>\n",
       "  </tbody>\n",
       "</table>\n",
       "</div>"
      ],
      "text/plain": [
       "  ISO3  classe_c  income_c  country  population  gdp_pc\n",
       "0  ALB         1    728.90  Albania        2.99 8228.37"
      ]
     },
     "execution_count": 16,
     "metadata": {},
     "output_type": "execute_result"
    }
   ],
   "source": [
    "# classe 41 manquante pour LTU Lithuania -> 99 quantiles seulement\n",
    "ltu=consolidation[consolidation['ISO3'].isin(['LTU'])]\n",
    "ltu.classe_c.nunique()\n",
    "\n",
    "# Supression de Lithuanie\n",
    "consolidation[consolidation['ISO3']!='LTU'].head(1)"
   ]
  },
  {
   "cell_type": "markdown",
   "metadata": {},
   "source": [
    "## Conclusions"
   ]
  },
  {
   "cell_type": "markdown",
   "metadata": {},
   "source": [
    "**Etendue de l'étude**\n",
    "* En 2008, la [population mondiale](https://www.prb.org/2008wpds/) est de 6.7 milliards"
   ]
  },
  {
   "cell_type": "code",
   "execution_count": 17,
   "metadata": {},
   "outputs": [
    {
     "name": "stdout",
     "output_type": "stream",
     "text": [
      "Population de l'étude : 6.15  milliards\n",
      "Pourcentage de la population mondiale (2008) de l'étude :  91.8  %\n"
     ]
    }
   ],
   "source": [
    "x=consolidation.groupby(['ISO3']).population.mean().reset_index()\n",
    "\n",
    "# total population de l'étude\n",
    "x=consolidation['population'].sum()/100000\n",
    "print(\"Population de l'étude :\",round(x,2),' milliards')\n",
    "\n",
    "# pourcentage de population mondiale de l'étude\n",
    "y=round((x/6.7)*100,1)\n",
    "print(\"Pourcentage de la population mondiale (2008) de l'étude : \",round(y,1),' %')"
   ]
  },
  {
   "cell_type": "markdown",
   "metadata": {},
   "source": [
    "**Info variables**"
   ]
  },
  {
   "cell_type": "code",
   "execution_count": 18,
   "metadata": {},
   "outputs": [
    {
     "name": "stdout",
     "output_type": "stream",
     "text": [
      "Nombre de quantiles uniques :  100\n",
      "Nombre de pays uniques :  111\n"
     ]
    }
   ],
   "source": [
    "# check nb de quantiles unique\n",
    "print(\"Nombre de quantiles uniques : \",consolidation['classe_c'].nunique())\n",
    "# nombre de pays\n",
    "print(\"Nombre de pays uniques : \",consolidation['ISO3'].nunique())"
   ]
  },
  {
   "cell_type": "markdown",
   "metadata": {},
   "source": [
    "**Data describe**"
   ]
  },
  {
   "cell_type": "code",
   "execution_count": 19,
   "metadata": {},
   "outputs": [
    {
     "data": {
      "text/html": [
       "<div>\n",
       "<style scoped>\n",
       "    .dataframe tbody tr th:only-of-type {\n",
       "        vertical-align: middle;\n",
       "    }\n",
       "\n",
       "    .dataframe tbody tr th {\n",
       "        vertical-align: top;\n",
       "    }\n",
       "\n",
       "    .dataframe thead th {\n",
       "        text-align: right;\n",
       "    }\n",
       "</style>\n",
       "<table border=\"1\" class=\"dataframe\">\n",
       "  <thead>\n",
       "    <tr style=\"text-align: right;\">\n",
       "      <th></th>\n",
       "      <th>classe_c</th>\n",
       "      <th>income_c</th>\n",
       "      <th>population</th>\n",
       "      <th>gdp_pc</th>\n",
       "    </tr>\n",
       "  </thead>\n",
       "  <tbody>\n",
       "    <tr>\n",
       "      <th>count</th>\n",
       "      <td>11099.00</td>\n",
       "      <td>11099.00</td>\n",
       "      <td>11099.00</td>\n",
       "      <td>11099.00</td>\n",
       "    </tr>\n",
       "    <tr>\n",
       "      <th>mean</th>\n",
       "      <td>50.50</td>\n",
       "      <td>6148.37</td>\n",
       "      <td>55.42</td>\n",
       "      <td>15788.47</td>\n",
       "    </tr>\n",
       "    <tr>\n",
       "      <th>std</th>\n",
       "      <td>28.87</td>\n",
       "      <td>9466.70</td>\n",
       "      <td>172.37</td>\n",
       "      <td>15220.17</td>\n",
       "    </tr>\n",
       "    <tr>\n",
       "      <th>min</th>\n",
       "      <td>1.00</td>\n",
       "      <td>16.72</td>\n",
       "      <td>0.31</td>\n",
       "      <td>615.07</td>\n",
       "    </tr>\n",
       "    <tr>\n",
       "      <th>25%</th>\n",
       "      <td>25.50</td>\n",
       "      <td>922.41</td>\n",
       "      <td>4.77</td>\n",
       "      <td>3914.61</td>\n",
       "    </tr>\n",
       "    <tr>\n",
       "      <th>50%</th>\n",
       "      <td>51.00</td>\n",
       "      <td>2495.71</td>\n",
       "      <td>14.01</td>\n",
       "      <td>10236.54</td>\n",
       "    </tr>\n",
       "    <tr>\n",
       "      <th>75%</th>\n",
       "      <td>75.50</td>\n",
       "      <td>7622.36</td>\n",
       "      <td>43.27</td>\n",
       "      <td>20837.25</td>\n",
       "    </tr>\n",
       "    <tr>\n",
       "      <th>max</th>\n",
       "      <td>100.00</td>\n",
       "      <td>176928.55</td>\n",
       "      <td>1344.42</td>\n",
       "      <td>86693.90</td>\n",
       "    </tr>\n",
       "  </tbody>\n",
       "</table>\n",
       "</div>"
      ],
      "text/plain": [
       "       classe_c  income_c  population   gdp_pc\n",
       "count  11099.00  11099.00    11099.00 11099.00\n",
       "mean      50.50   6148.37       55.42 15788.47\n",
       "std       28.87   9466.70      172.37 15220.17\n",
       "min        1.00     16.72        0.31   615.07\n",
       "25%       25.50    922.41        4.77  3914.61\n",
       "50%       51.00   2495.71       14.01 10236.54\n",
       "75%       75.50   7622.36       43.27 20837.25\n",
       "max      100.00 176928.55     1344.42 86693.90"
      ]
     },
     "execution_count": 19,
     "metadata": {},
     "output_type": "execute_result"
    }
   ],
   "source": [
    "consolidation.describe()"
   ]
  },
  {
   "cell_type": "markdown",
   "metadata": {},
   "source": [
    "**Pandas Profiling Report**"
   ]
  },
  {
   "cell_type": "raw",
   "metadata": {},
   "source": [
    "# profiling du df 'data'\n",
    "import pandas_profiling\n",
    "pandas_profiling.ProfileReport(consolidation)"
   ]
  },
  {
   "cell_type": "markdown",
   "metadata": {},
   "source": [
    "**Observations**"
   ]
  },
  {
   "cell_type": "markdown",
   "metadata": {},
   "source": [
    "* Les quantiles sont au nombre de 100, ce sont donc des centiles ou percentiles\n",
    "* Leur avantage est de contrebalancer les limites de la moyenne (mean) qui masque les disparités de distribution par classe de revenus\n",
    "* Purchasing Power Parity (PPP) est une unité calculée par la Banque Mondiale, selon la méthode EKS (Eltöte-Köves-Szulc). Elle sert à établir une comparaison entre pays du pouvoir d'achat des devises nationales, ce qu’une simple utilisation des taux de change ne permet pas de faire.\n",
    "* La méthode EKS est une méthode multilatérale qui calcule la nième racine du produit de tous les [indices de Fisher](https://fr.wikipedia.org/wiki/Indice_des_prix_de_Laspeyres-Paasche) possibles entre n pays. Le principal concurrent de la méthode EKS est la méthode Geary-Khami"
   ]
  },
  {
   "cell_type": "code",
   "execution_count": 20,
   "metadata": {},
   "outputs": [],
   "source": [
    "# export du df nettoyé\n",
    "consolidation.to_csv('data/wid_p7.csv')\n",
    "# export du df nettoyé\n",
    "consolidation.to_excel('data/wid_p7.xlsx')"
   ]
  },
  {
   "cell_type": "markdown",
   "metadata": {},
   "source": [
    "# Mission 2"
   ]
  },
  {
   "cell_type": "markdown",
   "metadata": {},
   "source": [
    "* Montrez la diversité des pays en termes de distribution de revenus à l'aide d'un graphique. Celui-ci représentera le revenu moyen (axe des ordonnées, sur une échelle logarithmique) de chacune des classes de revenus (axe des abscisses) pour 5 à 10 pays que vous aurez choisis pour montrer la diversité des cas.\n",
    "* Représentez la courbe de Lorenz de chacun des pays choisis.\n",
    "* Pour chacun de ces pays, représentez l'évolution de l'indice de Gini au fil des ans.\n",
    "* Classez les pays par indice de Gini. Donnez la moyenne, les 5 pays ayant l'indice de Gini le plus élevé et les 5 pays ayant l'indice de Gini le plus faible. En quelle position se trouve la France ?"
   ]
  },
  {
   "cell_type": "markdown",
   "metadata": {},
   "source": [
    "## Choix des pays à représenter \n",
    "**Critères**\n",
    "* Sélection de pays avec 10 années de données en terme d'indice Gini\n",
    "* Tableau World Bank Analytical Classifications (année 2008)\n",
    "* Sélection de 6-8 pays (si possible) dans les quatre categories de revenu\n",
    "* La France doit être dans le panel"
   ]
  },
  {
   "cell_type": "code",
   "execution_count": 21,
   "metadata": {},
   "outputs": [
    {
     "data": {
      "text/html": [
       "<div>\n",
       "<style scoped>\n",
       "    .dataframe tbody tr th:only-of-type {\n",
       "        vertical-align: middle;\n",
       "    }\n",
       "\n",
       "    .dataframe tbody tr th {\n",
       "        vertical-align: top;\n",
       "    }\n",
       "\n",
       "    .dataframe thead th {\n",
       "        text-align: right;\n",
       "    }\n",
       "</style>\n",
       "<table border=\"1\" class=\"dataframe\">\n",
       "  <thead>\n",
       "    <tr style=\"text-align: right;\">\n",
       "      <th></th>\n",
       "      <th>country</th>\n",
       "      <th>inc_id</th>\n",
       "      <th>income</th>\n",
       "    </tr>\n",
       "    <tr>\n",
       "      <th>ISO3</th>\n",
       "      <th></th>\n",
       "      <th></th>\n",
       "      <th></th>\n",
       "    </tr>\n",
       "  </thead>\n",
       "  <tbody>\n",
       "    <tr>\n",
       "      <th>ARG</th>\n",
       "      <td>Argentina</td>\n",
       "      <td>UM</td>\n",
       "      <td>Upper middle income</td>\n",
       "    </tr>\n",
       "    <tr>\n",
       "      <th>CZE</th>\n",
       "      <td>Czech Republic</td>\n",
       "      <td>H</td>\n",
       "      <td>High income</td>\n",
       "    </tr>\n",
       "    <tr>\n",
       "      <th>ECU</th>\n",
       "      <td>Ecuador</td>\n",
       "      <td>LM</td>\n",
       "      <td>Lower middle income</td>\n",
       "    </tr>\n",
       "    <tr>\n",
       "      <th>FRA</th>\n",
       "      <td>France</td>\n",
       "      <td>H</td>\n",
       "      <td>High income</td>\n",
       "    </tr>\n",
       "    <tr>\n",
       "      <th>IDN</th>\n",
       "      <td>Indonesia</td>\n",
       "      <td>LM</td>\n",
       "      <td>Lower middle income</td>\n",
       "    </tr>\n",
       "    <tr>\n",
       "      <th>IND</th>\n",
       "      <td>India</td>\n",
       "      <td>LM</td>\n",
       "      <td>Lower middle income</td>\n",
       "    </tr>\n",
       "    <tr>\n",
       "      <th>RUS</th>\n",
       "      <td>Russian Federation</td>\n",
       "      <td>UM</td>\n",
       "      <td>Upper middle income</td>\n",
       "    </tr>\n",
       "  </tbody>\n",
       "</table>\n",
       "</div>"
      ],
      "text/plain": [
       "                 country inc_id               income\n",
       "ISO3                                                \n",
       "ARG            Argentina     UM  Upper middle income\n",
       "CZE       Czech Republic      H          High income\n",
       "ECU              Ecuador     LM  Lower middle income\n",
       "FRA               France      H          High income\n",
       "IDN            Indonesia     LM  Lower middle income\n",
       "IND                India     LM  Lower middle income\n",
       "RUS   Russian Federation     UM  Upper middle income"
      ]
     },
     "execution_count": 21,
     "metadata": {},
     "output_type": "execute_result"
    }
   ],
   "source": [
    "# tableau World Bank Analytical Classifications\n",
    "i = pd.read_excel('data/income_level_2008.xls')\n",
    "i.set_index('ISO3',inplace=True)\n",
    "\n",
    "# pays retenus\n",
    "s=i.loc[['ARG','CZE','ECU','FRA','IDN','IND','RUS']]\n",
    "s"
   ]
  },
  {
   "cell_type": "markdown",
   "metadata": {},
   "source": [
    "* Seul pays 'Low Income' avec 10 années de données = Kyrgyz Republic (pas assez significatif)"
   ]
  },
  {
   "cell_type": "markdown",
   "metadata": {},
   "source": [
    "## Distribution des revenus"
   ]
  },
  {
   "cell_type": "code",
   "execution_count": 22,
   "metadata": {},
   "outputs": [
    {
     "data": {
      "text/html": [
       "<div>\n",
       "<style scoped>\n",
       "    .dataframe tbody tr th:only-of-type {\n",
       "        vertical-align: middle;\n",
       "    }\n",
       "\n",
       "    .dataframe tbody tr th {\n",
       "        vertical-align: top;\n",
       "    }\n",
       "\n",
       "    .dataframe thead th {\n",
       "        text-align: right;\n",
       "    }\n",
       "</style>\n",
       "<table border=\"1\" class=\"dataframe\">\n",
       "  <thead>\n",
       "    <tr style=\"text-align: right;\">\n",
       "      <th></th>\n",
       "      <th>ISO3</th>\n",
       "      <th>classe_c</th>\n",
       "      <th>income_c</th>\n",
       "      <th>country</th>\n",
       "    </tr>\n",
       "  </thead>\n",
       "  <tbody>\n",
       "    <tr>\n",
       "      <th>0</th>\n",
       "      <td>ALB</td>\n",
       "      <td>1</td>\n",
       "      <td>728.90</td>\n",
       "      <td>Albania</td>\n",
       "    </tr>\n",
       "    <tr>\n",
       "      <th>1</th>\n",
       "      <td>ALB</td>\n",
       "      <td>2</td>\n",
       "      <td>916.66</td>\n",
       "      <td>Albania</td>\n",
       "    </tr>\n",
       "  </tbody>\n",
       "</table>\n",
       "</div>"
      ],
      "text/plain": [
       "  ISO3  classe_c  income_c  country\n",
       "0  ALB         1    728.90  Albania\n",
       "1  ALB         2    916.66  Albania"
      ]
     },
     "execution_count": 22,
     "metadata": {},
     "output_type": "execute_result"
    }
   ],
   "source": [
    "# data import\n",
    "tp = pd.read_csv('data/wid_p7.csv', usecols=['ISO3','country','classe_c','income_c'])\n",
    "tp.head(2)"
   ]
  },
  {
   "cell_type": "code",
   "execution_count": 23,
   "metadata": {},
   "outputs": [
    {
     "data": {
      "text/plain": [
       "array(['ARG', 'CZE', 'ECU', 'FRA', 'IDN', 'IND', 'RUS'], dtype=object)"
      ]
     },
     "execution_count": 23,
     "metadata": {},
     "output_type": "execute_result"
    }
   ],
   "source": [
    "gr=tp[tp['ISO3'].isin(['ARG','CZE','ECU','FRA','IDN','IND','RUS'])]\n",
    "gr.ISO3.unique()"
   ]
  },
  {
   "cell_type": "code",
   "execution_count": 24,
   "metadata": {},
   "outputs": [
    {
     "data": {
      "text/html": [
       "<div>\n",
       "<style scoped>\n",
       "    .dataframe tbody tr th:only-of-type {\n",
       "        vertical-align: middle;\n",
       "    }\n",
       "\n",
       "    .dataframe tbody tr th {\n",
       "        vertical-align: top;\n",
       "    }\n",
       "\n",
       "    .dataframe thead th {\n",
       "        text-align: right;\n",
       "    }\n",
       "</style>\n",
       "<table border=\"1\" class=\"dataframe\">\n",
       "  <thead>\n",
       "    <tr style=\"text-align: right;\">\n",
       "      <th></th>\n",
       "      <th>ISO3</th>\n",
       "      <th>classe_c</th>\n",
       "      <th>income_c</th>\n",
       "      <th>country</th>\n",
       "    </tr>\n",
       "  </thead>\n",
       "  <tbody>\n",
       "    <tr>\n",
       "      <th>100</th>\n",
       "      <td>ARG</td>\n",
       "      <td>1</td>\n",
       "      <td>254.09</td>\n",
       "      <td>Argentina</td>\n",
       "    </tr>\n",
       "    <tr>\n",
       "      <th>101</th>\n",
       "      <td>ARG</td>\n",
       "      <td>2</td>\n",
       "      <td>470.50</td>\n",
       "      <td>Argentina</td>\n",
       "    </tr>\n",
       "  </tbody>\n",
       "</table>\n",
       "</div>"
      ],
      "text/plain": [
       "    ISO3  classe_c  income_c    country\n",
       "100  ARG         1    254.09  Argentina\n",
       "101  ARG         2    470.50  Argentina"
      ]
     },
     "execution_count": 24,
     "metadata": {},
     "output_type": "execute_result"
    }
   ],
   "source": [
    "gr.head(2)"
   ]
  },
  {
   "cell_type": "code",
   "execution_count": 25,
   "metadata": {
    "scrolled": false
   },
   "outputs": [
    {
     "data": {
      "image/png": "[encoded data removed]",
      "text/plain": [
       "<Figure size 739.775x504 with 1 Axes>"
      ]
     },
     "metadata": {},
     "output_type": "display_data"
    }
   ],
   "source": [
    "# affichage du graphique\n",
    "sns.set(font_scale=1) \n",
    "\n",
    "sns.set_style(\"whitegrid\")\n",
    "\n",
    "ax=sns.relplot(x=\"classe_c\", y=\"income_c\", hue=\"country\", kind=\"line\", data=gr, height=7, aspect=1.2, linewidth=2.5)\n",
    "ax.set(yscale=\"log\")\n",
    "\n",
    "\n",
    "# titre\n",
    "plt.title(\"Income distribution 7 countries\", fontsize=24, color = 'navy')\n",
    "\n",
    "plt.xlim(0,100.2)\n",
    "plt.ylim(10**2,10**5)\n",
    "\n",
    "# Libellé Abscisse (x)\n",
    "plt.xticks(size=14)\n",
    "plt.xlabel(\"Child Class\", size=20)\n",
    "\n",
    "# Libellé Ordonnée (y)\n",
    "plt.yticks(size=14)\n",
    "plt.ylabel(\"Income log scale ($ppp)\", size=20, rotation=90)\n",
    "\n",
    "plt.savefig('img/2.2 dist_revenus.png', dpi=120, bbox_inches='tight')"
   ]
  },
  {
   "cell_type": "markdown",
   "metadata": {},
   "source": [
    "## Courbes de Lorenz"
   ]
  },
  {
   "cell_type": "markdown",
   "metadata": {},
   "source": [
    "**Data**"
   ]
  },
  {
   "cell_type": "code",
   "execution_count": 26,
   "metadata": {},
   "outputs": [],
   "source": [
    "# Création de 8 df (un par pays)\n",
    "ARG=gr[gr['ISO3']=='ARG']\n",
    "CZE=gr[gr['ISO3']=='CZE']\n",
    "ECU=gr[gr['ISO3']=='ECU']\n",
    "FRA=gr[gr['ISO3']=='FRA']\n",
    "IDN=gr[gr['ISO3']=='IDN']\n",
    "IND=gr[gr['ISO3']=='IND']\n",
    "RUS=gr[gr['ISO3']=='RUS']"
   ]
  },
  {
   "cell_type": "code",
   "execution_count": 27,
   "metadata": {},
   "outputs": [],
   "source": [
    "# création des 8 datasets\n",
    "l1=ARG.income_c.values\n",
    "l2=CZE.income_c.values\n",
    "l3=ECU.income_c.values\n",
    "l4=FRA.income_c.values\n",
    "l5=IDN.income_c.values\n",
    "l6=IND.income_c.values\n",
    "l7=RUS.income_c.values"
   ]
  },
  {
   "cell_type": "code",
   "execution_count": 28,
   "metadata": {},
   "outputs": [],
   "source": [
    "# calcul des courbes \n",
    "lor1 = np.cumsum(np.sort(l1)) / l1.sum()\n",
    "lor1 = np.append([0],lor1) # La courbe de Lorenz commence à 0\n",
    "\n",
    "lor2 = np.cumsum(np.sort(l2)) / l2.sum()\n",
    "lor2 = np.append([0],lor2) \n",
    "\n",
    "lor3 = np.cumsum(np.sort(l3)) / l3.sum()\n",
    "lor3 = np.append([0],lor3) \n",
    "\n",
    "lor4 = np.cumsum(np.sort(l4)) / l4.sum()\n",
    "lor4 = np.append([0],lor4) \n",
    "\n",
    "lor5 = np.cumsum(np.sort(l5)) / l5.sum()\n",
    "lor5 = np.append([0],lor5) \n",
    "\n",
    "lor6 = np.cumsum(np.sort(l6)) / l6.sum()\n",
    "lor6 = np.append([0],lor6) \n",
    "\n",
    "lor7 = np.cumsum(np.sort(l7)) / l7.sum()\n",
    "lor7 = np.append([0],lor7) "
   ]
  },
  {
   "cell_type": "markdown",
   "metadata": {},
   "source": [
    "**Graphique**"
   ]
  },
  {
   "cell_type": "code",
   "execution_count": 29,
   "metadata": {},
   "outputs": [
    {
     "data": {
      "image/png": "[encoded data removed]",
      "text/plain": [
       "<Figure size 576x576 with 1 Axes>"
      ]
     },
     "metadata": {},
     "output_type": "display_data"
    }
   ],
   "source": [
    "# affichage du graphique\n",
    "sns.set(font_scale=1) \n",
    "sns.set_style(\"whitegrid\")\n",
    "\n",
    "fig, ax = plt.subplots(figsize=[8,8])\n",
    "plt.xlim(0)\n",
    "plt.ylim(0)\n",
    "\n",
    "# titre\n",
    "plt.title(\"Lorenz Curve\", fontsize=24, color = 'navy')\n",
    "\n",
    "# Libellé Abscisse (x)\n",
    "plt.xticks(size=12)\n",
    "plt.xlabel(\"Class Distribution\", size=20)\n",
    "\n",
    "# Libellé Ordonnée (y)\n",
    "plt.yticks(size=12)\n",
    "plt.ylabel(\"Classes Cumulation (%)\", size=20, rotation=90)\n",
    "\n",
    "# ligne d'égalité\n",
    "ax.plot([0,1], [0,1], color='grey')\n",
    "\n",
    "# courbes de Lorenz\n",
    "plt.plot(np.linspace(0,1,len(lor1)),lor1,drawstyle='steps-post')\n",
    "plt.plot(np.linspace(0,1,len(lor2)),lor2,drawstyle='steps-post')\n",
    "plt.plot(np.linspace(0,1,len(lor3)),lor3,drawstyle='steps-post')\n",
    "plt.plot(np.linspace(0,1,len(lor4)),lor4,drawstyle='steps-post')\n",
    "plt.plot(np.linspace(0,1,len(lor5)),lor5,drawstyle='steps-post')\n",
    "plt.plot(np.linspace(0,1,len(lor6)),lor6,drawstyle='steps-post')\n",
    "plt.plot(np.linspace(0,1,len(lor7)),lor7,drawstyle='steps-post')\n",
    "\n",
    "# légendes\n",
    "mylabels = ['Equal distribution','Argentina','Czech Republic','Ecuador','France','Indonesia','India','Russian Federation']\n",
    "plt.legend(labels = mylabels, fontsize=15)\n",
    "\n",
    "plt.savefig('img/2.3 lorenz.png', dpi=120, bbox_inches='tight')"
   ]
  },
  {
   "cell_type": "markdown",
   "metadata": {},
   "source": [
    "## Evolution de l'indice Gini"
   ]
  },
  {
   "cell_type": "markdown",
   "metadata": {},
   "source": [
    "**Data**"
   ]
  },
  {
   "cell_type": "code",
   "execution_count": 30,
   "metadata": {},
   "outputs": [
    {
     "data": {
      "text/html": [
       "<div>\n",
       "<style scoped>\n",
       "    .dataframe tbody tr th:only-of-type {\n",
       "        vertical-align: middle;\n",
       "    }\n",
       "\n",
       "    .dataframe tbody tr th {\n",
       "        vertical-align: top;\n",
       "    }\n",
       "\n",
       "    .dataframe thead th {\n",
       "        text-align: right;\n",
       "    }\n",
       "</style>\n",
       "<table border=\"1\" class=\"dataframe\">\n",
       "  <thead>\n",
       "    <tr style=\"text-align: right;\">\n",
       "      <th></th>\n",
       "      <th>ISO3</th>\n",
       "      <th>country</th>\n",
       "      <th>2004</th>\n",
       "      <th>2005</th>\n",
       "      <th>2006</th>\n",
       "      <th>2007</th>\n",
       "      <th>2008</th>\n",
       "      <th>2009</th>\n",
       "      <th>2010</th>\n",
       "      <th>2011</th>\n",
       "      <th>2012</th>\n",
       "      <th>2013</th>\n",
       "    </tr>\n",
       "  </thead>\n",
       "  <tbody>\n",
       "    <tr>\n",
       "      <th>1</th>\n",
       "      <td>ARG</td>\n",
       "      <td>Argentina</td>\n",
       "      <td>48.30</td>\n",
       "      <td>47.70</td>\n",
       "      <td>46.60</td>\n",
       "      <td>46.30</td>\n",
       "      <td>44.50</td>\n",
       "      <td>43.90</td>\n",
       "      <td>43.00</td>\n",
       "      <td>42.30</td>\n",
       "      <td>41.20</td>\n",
       "      <td>41.00</td>\n",
       "    </tr>\n",
       "    <tr>\n",
       "      <th>24</th>\n",
       "      <td>CZE</td>\n",
       "      <td>Czech Republic</td>\n",
       "      <td>27.50</td>\n",
       "      <td>26.90</td>\n",
       "      <td>26.70</td>\n",
       "      <td>26.00</td>\n",
       "      <td>26.30</td>\n",
       "      <td>26.20</td>\n",
       "      <td>26.60</td>\n",
       "      <td>26.40</td>\n",
       "      <td>26.10</td>\n",
       "      <td>26.50</td>\n",
       "    </tr>\n",
       "    <tr>\n",
       "      <th>28</th>\n",
       "      <td>ECU</td>\n",
       "      <td>Ecuador</td>\n",
       "      <td>53.90</td>\n",
       "      <td>53.10</td>\n",
       "      <td>52.20</td>\n",
       "      <td>53.30</td>\n",
       "      <td>49.70</td>\n",
       "      <td>48.40</td>\n",
       "      <td>48.70</td>\n",
       "      <td>45.90</td>\n",
       "      <td>46.10</td>\n",
       "      <td>46.90</td>\n",
       "    </tr>\n",
       "    <tr>\n",
       "      <th>34</th>\n",
       "      <td>FRA</td>\n",
       "      <td>France</td>\n",
       "      <td>30.60</td>\n",
       "      <td>29.80</td>\n",
       "      <td>29.70</td>\n",
       "      <td>32.40</td>\n",
       "      <td>33.00</td>\n",
       "      <td>32.70</td>\n",
       "      <td>33.70</td>\n",
       "      <td>33.30</td>\n",
       "      <td>33.10</td>\n",
       "      <td>32.50</td>\n",
       "    </tr>\n",
       "    <tr>\n",
       "      <th>44</th>\n",
       "      <td>IDN</td>\n",
       "      <td>Indonesia</td>\n",
       "      <td>32.70</td>\n",
       "      <td>33.00</td>\n",
       "      <td>34.20</td>\n",
       "      <td>35.70</td>\n",
       "      <td>35.10</td>\n",
       "      <td>35.10</td>\n",
       "      <td>36.40</td>\n",
       "      <td>39.70</td>\n",
       "      <td>39.60</td>\n",
       "      <td>39.90</td>\n",
       "    </tr>\n",
       "    <tr>\n",
       "      <th>90</th>\n",
       "      <td>RUS</td>\n",
       "      <td>Russian Federation</td>\n",
       "      <td>40.30</td>\n",
       "      <td>41.30</td>\n",
       "      <td>41.00</td>\n",
       "      <td>42.30</td>\n",
       "      <td>41.60</td>\n",
       "      <td>39.80</td>\n",
       "      <td>39.50</td>\n",
       "      <td>39.70</td>\n",
       "      <td>40.70</td>\n",
       "      <td>40.90</td>\n",
       "    </tr>\n",
       "  </tbody>\n",
       "</table>\n",
       "</div>"
      ],
      "text/plain": [
       "   ISO3             country  2004  2005  2006  2007  2008  2009  2010  2011  \\\n",
       "1   ARG           Argentina 48.30 47.70 46.60 46.30 44.50 43.90 43.00 42.30   \n",
       "24  CZE      Czech Republic 27.50 26.90 26.70 26.00 26.30 26.20 26.60 26.40   \n",
       "28  ECU             Ecuador 53.90 53.10 52.20 53.30 49.70 48.40 48.70 45.90   \n",
       "34  FRA              France 30.60 29.80 29.70 32.40 33.00 32.70 33.70 33.30   \n",
       "44  IDN           Indonesia 32.70 33.00 34.20 35.70 35.10 35.10 36.40 39.70   \n",
       "90  RUS  Russian Federation 40.30 41.30 41.00 42.30 41.60 39.80 39.50 39.70   \n",
       "\n",
       "    2012  2013  \n",
       "1  41.20 41.00  \n",
       "24 26.10 26.50  \n",
       "28 46.10 46.90  \n",
       "34 33.10 32.50  \n",
       "44 39.60 39.90  \n",
       "90 40.70 40.90  "
      ]
     },
     "execution_count": 30,
     "metadata": {},
     "output_type": "execute_result"
    }
   ],
   "source": [
    "# récupération de notre sélection de pays dans le fichier 'gini_histo_ok'\n",
    "g = pd.read_excel('data/gini_histo_ok.xls')\n",
    "gin=g[g['ISO3'].isin(['ARG','CZE','ECU','FRA','IDN','RUS'])]\n",
    "gin"
   ]
  },
  {
   "cell_type": "markdown",
   "metadata": {},
   "source": [
    "* India a été retiré de la liste dû aux années manquantes"
   ]
  },
  {
   "cell_type": "code",
   "execution_count": 31,
   "metadata": {},
   "outputs": [
    {
     "data": {
      "text/html": [
       "<div>\n",
       "<style scoped>\n",
       "    .dataframe tbody tr th:only-of-type {\n",
       "        vertical-align: middle;\n",
       "    }\n",
       "\n",
       "    .dataframe tbody tr th {\n",
       "        vertical-align: top;\n",
       "    }\n",
       "\n",
       "    .dataframe thead th {\n",
       "        text-align: right;\n",
       "    }\n",
       "</style>\n",
       "<table border=\"1\" class=\"dataframe\">\n",
       "  <thead>\n",
       "    <tr style=\"text-align: right;\">\n",
       "      <th></th>\n",
       "      <th>ISO3</th>\n",
       "      <th>country</th>\n",
       "      <th>year</th>\n",
       "      <th>value</th>\n",
       "    </tr>\n",
       "  </thead>\n",
       "  <tbody>\n",
       "    <tr>\n",
       "      <th>0</th>\n",
       "      <td>ARG</td>\n",
       "      <td>Argentina</td>\n",
       "      <td>2004</td>\n",
       "      <td>48.30</td>\n",
       "    </tr>\n",
       "    <tr>\n",
       "      <th>1</th>\n",
       "      <td>CZE</td>\n",
       "      <td>Czech Republic</td>\n",
       "      <td>2004</td>\n",
       "      <td>27.50</td>\n",
       "    </tr>\n",
       "  </tbody>\n",
       "</table>\n",
       "</div>"
      ],
      "text/plain": [
       "  ISO3         country  year  value\n",
       "0  ARG       Argentina  2004  48.30\n",
       "1  CZE  Czech Republic  2004  27.50"
      ]
     },
     "execution_count": 31,
     "metadata": {},
     "output_type": "execute_result"
    }
   ],
   "source": [
    "# melt : pivot des variables numériques dans les colonnes 'year' et 'value'\n",
    "gini_hist=gin.melt(id_vars=['ISO3','country'], var_name='year')\n",
    "gini_hist.head(2)"
   ]
  },
  {
   "cell_type": "markdown",
   "metadata": {},
   "source": [
    "**Graphique**"
   ]
  },
  {
   "cell_type": "code",
   "execution_count": 32,
   "metadata": {},
   "outputs": [
    {
     "data": {
      "image/png": "[encoded data removed]",
      "text/plain": [
       "<Figure size 643.23x468 with 1 Axes>"
      ]
     },
     "metadata": {},
     "output_type": "display_data"
    }
   ],
   "source": [
    "# historique\n",
    "sns.set(font_scale=1.3) \n",
    "sns.set_style(\"whitegrid\")\n",
    "sns.relplot(x=\"year\", y=\"value\", kind=\"line\", hue=\"country\", data=gini_hist,height=6.5, aspect=1, linewidth=2.5)\n",
    "\n",
    "# titre\n",
    "plt.title(\"Gini Coefficient Evolution\", fontsize=24, color = 'navy')\n",
    "plt.xlim(2004, 2013)\n",
    "plt.ylim(25, 55)\n",
    "\n",
    "# Libellé Abscisse (x)\n",
    "plt.xticks(size=14)\n",
    "plt.xlabel(\"\")\n",
    "\n",
    "# Libellé Ordonnée (y)\n",
    "plt.yticks(size=14)\n",
    "plt.ylabel(\"Coefficient\", size=20, rotation=90)\n",
    "\n",
    "plt.savefig('img/2.4 evo_gini.png', dpi=120, bbox_inches='tight')"
   ]
  },
  {
   "cell_type": "markdown",
   "metadata": {},
   "source": [
    "**Analyse**"
   ]
  },
  {
   "cell_type": "markdown",
   "metadata": {},
   "source": [
    "* 2 pays flat : Russian Federation, Czech Republic\n",
    "* 2 pays tendent vers une meilleure répartition : Equador, Argentina\n",
    "* 3 courbes convergent à 40% en 2013 : Argentina, Russian Federation, Indonesia\n",
    "* Czech Républic est le pays le plus égalitaire et le plus stable sur la période 2004-20013\n",
    "* La France est le second pays le plus égalitaire de la liste"
   ]
  },
  {
   "cell_type": "markdown",
   "metadata": {},
   "source": [
    "## Classement par indice Gini"
   ]
  },
  {
   "cell_type": "markdown",
   "metadata": {},
   "source": [
    "**Data**"
   ]
  },
  {
   "cell_type": "code",
   "execution_count": 33,
   "metadata": {},
   "outputs": [
    {
     "data": {
      "text/html": [
       "<div>\n",
       "<style scoped>\n",
       "    .dataframe tbody tr th:only-of-type {\n",
       "        vertical-align: middle;\n",
       "    }\n",
       "\n",
       "    .dataframe tbody tr th {\n",
       "        vertical-align: top;\n",
       "    }\n",
       "\n",
       "    .dataframe thead th {\n",
       "        text-align: right;\n",
       "    }\n",
       "</style>\n",
       "<table border=\"1\" class=\"dataframe\">\n",
       "  <thead>\n",
       "    <tr style=\"text-align: right;\">\n",
       "      <th></th>\n",
       "      <th>ISO3</th>\n",
       "      <th>country</th>\n",
       "      <th>2004</th>\n",
       "      <th>2005</th>\n",
       "      <th>2006</th>\n",
       "      <th>2007</th>\n",
       "      <th>2008</th>\n",
       "      <th>2009</th>\n",
       "      <th>2010</th>\n",
       "      <th>2011</th>\n",
       "      <th>2012</th>\n",
       "      <th>2013</th>\n",
       "      <th>mean</th>\n",
       "    </tr>\n",
       "  </thead>\n",
       "  <tbody>\n",
       "    <tr>\n",
       "      <th>0</th>\n",
       "      <td>ALB</td>\n",
       "      <td>Albania</td>\n",
       "      <td>nan</td>\n",
       "      <td>30.60</td>\n",
       "      <td>nan</td>\n",
       "      <td>nan</td>\n",
       "      <td>30.00</td>\n",
       "      <td>nan</td>\n",
       "      <td>nan</td>\n",
       "      <td>nan</td>\n",
       "      <td>29.00</td>\n",
       "      <td>nan</td>\n",
       "      <td>29.87</td>\n",
       "    </tr>\n",
       "    <tr>\n",
       "      <th>1</th>\n",
       "      <td>ARG</td>\n",
       "      <td>Argentina</td>\n",
       "      <td>48.30</td>\n",
       "      <td>47.70</td>\n",
       "      <td>46.60</td>\n",
       "      <td>46.30</td>\n",
       "      <td>44.50</td>\n",
       "      <td>43.90</td>\n",
       "      <td>43.00</td>\n",
       "      <td>42.30</td>\n",
       "      <td>41.20</td>\n",
       "      <td>41.00</td>\n",
       "      <td>44.48</td>\n",
       "    </tr>\n",
       "  </tbody>\n",
       "</table>\n",
       "</div>"
      ],
      "text/plain": [
       "  ISO3    country  2004  2005  2006  2007  2008  2009  2010  2011  2012  2013  \\\n",
       "0  ALB    Albania   nan 30.60   nan   nan 30.00   nan   nan   nan 29.00   nan   \n",
       "1  ARG  Argentina 48.30 47.70 46.60 46.30 44.50 43.90 43.00 42.30 41.20 41.00   \n",
       "\n",
       "   mean  \n",
       "0 29.87  \n",
       "1 44.48  "
      ]
     },
     "execution_count": 33,
     "metadata": {},
     "output_type": "execute_result"
    }
   ],
   "source": [
    "# import fichier\n",
    "hist = pd.read_excel('data/gini_histo_ok.xls')\n",
    "# ajout d'une colonne 'mean'\n",
    "hist['mean']=hist.mean(axis = 1)\n",
    "hist.head(2)"
   ]
  },
  {
   "cell_type": "code",
   "execution_count": 34,
   "metadata": {},
   "outputs": [
    {
     "data": {
      "text/html": [
       "<div>\n",
       "<style scoped>\n",
       "    .dataframe tbody tr th:only-of-type {\n",
       "        vertical-align: middle;\n",
       "    }\n",
       "\n",
       "    .dataframe tbody tr th {\n",
       "        vertical-align: top;\n",
       "    }\n",
       "\n",
       "    .dataframe thead th {\n",
       "        text-align: right;\n",
       "    }\n",
       "</style>\n",
       "<table border=\"1\" class=\"dataframe\">\n",
       "  <thead>\n",
       "    <tr style=\"text-align: right;\">\n",
       "      <th></th>\n",
       "      <th>ISO3</th>\n",
       "      <th>country</th>\n",
       "      <th>gini</th>\n",
       "    </tr>\n",
       "  </thead>\n",
       "  <tbody>\n",
       "    <tr>\n",
       "      <th>0</th>\n",
       "      <td>ALB</td>\n",
       "      <td>Albania</td>\n",
       "      <td>30.00</td>\n",
       "    </tr>\n",
       "    <tr>\n",
       "      <th>1</th>\n",
       "      <td>ARG</td>\n",
       "      <td>Argentina</td>\n",
       "      <td>44.50</td>\n",
       "    </tr>\n",
       "  </tbody>\n",
       "</table>\n",
       "</div>"
      ],
      "text/plain": [
       "  ISO3    country  gini\n",
       "0  ALB    Albania 30.00\n",
       "1  ARG  Argentina 44.50"
      ]
     },
     "execution_count": 34,
     "metadata": {},
     "output_type": "execute_result"
    }
   ],
   "source": [
    "# on remplace les NaN de l'année 2008 par la moyenne des 10 années\n",
    "gini=hist[['ISO3','country',2008,'mean']].copy()\n",
    "gini[2008].fillna(gini['mean'], inplace=True)\n",
    "gini.drop(['mean'], axis=1, inplace=True)\n",
    "gini.columns=['ISO3','country', 'gini']\n",
    "gini.head(2)"
   ]
  },
  {
   "cell_type": "markdown",
   "metadata": {},
   "source": [
    "**Top 5 égalitaires**"
   ]
  },
  {
   "cell_type": "code",
   "execution_count": 35,
   "metadata": {},
   "outputs": [
    {
     "data": {
      "text/html": [
       "<div>\n",
       "<style scoped>\n",
       "    .dataframe tbody tr th:only-of-type {\n",
       "        vertical-align: middle;\n",
       "    }\n",
       "\n",
       "    .dataframe tbody tr th {\n",
       "        vertical-align: top;\n",
       "    }\n",
       "\n",
       "    .dataframe thead th {\n",
       "        text-align: right;\n",
       "    }\n",
       "</style>\n",
       "<table border=\"1\" class=\"dataframe\">\n",
       "  <thead>\n",
       "    <tr style=\"text-align: right;\">\n",
       "      <th></th>\n",
       "      <th>ISO3</th>\n",
       "      <th>country</th>\n",
       "      <th>gini</th>\n",
       "    </tr>\n",
       "  </thead>\n",
       "  <tbody>\n",
       "    <tr>\n",
       "      <th>0</th>\n",
       "      <td>SVN</td>\n",
       "      <td>Slovenia</td>\n",
       "      <td>23.70</td>\n",
       "    </tr>\n",
       "    <tr>\n",
       "      <th>1</th>\n",
       "      <td>DNK</td>\n",
       "      <td>Denmark</td>\n",
       "      <td>25.20</td>\n",
       "    </tr>\n",
       "    <tr>\n",
       "      <th>2</th>\n",
       "      <td>SVK</td>\n",
       "      <td>Slovak Republic</td>\n",
       "      <td>26.00</td>\n",
       "    </tr>\n",
       "    <tr>\n",
       "      <th>3</th>\n",
       "      <td>CZE</td>\n",
       "      <td>Czech Republic</td>\n",
       "      <td>26.30</td>\n",
       "    </tr>\n",
       "    <tr>\n",
       "      <th>4</th>\n",
       "      <td>AZE</td>\n",
       "      <td>Azerbaijan</td>\n",
       "      <td>26.60</td>\n",
       "    </tr>\n",
       "  </tbody>\n",
       "</table>\n",
       "</div>"
      ],
      "text/plain": [
       "  ISO3          country  gini\n",
       "0  SVN         Slovenia 23.70\n",
       "1  DNK          Denmark 25.20\n",
       "2  SVK  Slovak Republic 26.00\n",
       "3  CZE   Czech Republic 26.30\n",
       "4  AZE       Azerbaijan 26.60"
      ]
     },
     "execution_count": 35,
     "metadata": {},
     "output_type": "execute_result"
    }
   ],
   "source": [
    "# tri décroissant\n",
    "gini.sort_values(by = ['gini'], ascending = True, inplace=True)\n",
    "gi=gini.reset_index(drop=True)\n",
    "# les 5 pays à l'indice Gini le plus faible (plus égalitaire)\n",
    "gi.head(5)"
   ]
  },
  {
   "cell_type": "markdown",
   "metadata": {},
   "source": [
    "* Les 5 pays ayant le plus faible indice Gini en 2008 sont : Azerbaijan, Czech Republic, Slovak Republic, Denmark, Slovenia"
   ]
  },
  {
   "cell_type": "markdown",
   "metadata": {},
   "source": [
    "**Top 5 inégalitaires**"
   ]
  },
  {
   "cell_type": "code",
   "execution_count": 36,
   "metadata": {
    "scrolled": true
   },
   "outputs": [
    {
     "data": {
      "text/html": [
       "<div>\n",
       "<style scoped>\n",
       "    .dataframe tbody tr th:only-of-type {\n",
       "        vertical-align: middle;\n",
       "    }\n",
       "\n",
       "    .dataframe tbody tr th {\n",
       "        vertical-align: top;\n",
       "    }\n",
       "\n",
       "    .dataframe thead th {\n",
       "        text-align: right;\n",
       "    }\n",
       "</style>\n",
       "<table border=\"1\" class=\"dataframe\">\n",
       "  <thead>\n",
       "    <tr style=\"text-align: right;\">\n",
       "      <th></th>\n",
       "      <th>ISO3</th>\n",
       "      <th>country</th>\n",
       "      <th>gini</th>\n",
       "    </tr>\n",
       "  </thead>\n",
       "  <tbody>\n",
       "    <tr>\n",
       "      <th>106</th>\n",
       "      <td>GTM</td>\n",
       "      <td>Guatemala</td>\n",
       "      <td>54.60</td>\n",
       "    </tr>\n",
       "    <tr>\n",
       "      <th>107</th>\n",
       "      <td>HND</td>\n",
       "      <td>Honduras</td>\n",
       "      <td>55.50</td>\n",
       "    </tr>\n",
       "    <tr>\n",
       "      <th>108</th>\n",
       "      <td>COL</td>\n",
       "      <td>Colombia</td>\n",
       "      <td>55.50</td>\n",
       "    </tr>\n",
       "    <tr>\n",
       "      <th>109</th>\n",
       "      <td>CAF</td>\n",
       "      <td>Central African Republic</td>\n",
       "      <td>56.20</td>\n",
       "    </tr>\n",
       "    <tr>\n",
       "      <th>110</th>\n",
       "      <td>ZAF</td>\n",
       "      <td>South Africa</td>\n",
       "      <td>63.00</td>\n",
       "    </tr>\n",
       "  </tbody>\n",
       "</table>\n",
       "</div>"
      ],
      "text/plain": [
       "    ISO3                   country  gini\n",
       "106  GTM                 Guatemala 54.60\n",
       "107  HND                  Honduras 55.50\n",
       "108  COL                  Colombia 55.50\n",
       "109  CAF  Central African Republic 56.20\n",
       "110  ZAF              South Africa 63.00"
      ]
     },
     "execution_count": 36,
     "metadata": {},
     "output_type": "execute_result"
    }
   ],
   "source": [
    "# les 5 pays à l'indice Gini le plus fort (plus inégalitaire)\n",
    "gi.tail(5)"
   ]
  },
  {
   "cell_type": "markdown",
   "metadata": {},
   "source": [
    "* Les 5 pays ayant le plus fort indice Gini en 2008 sont : Guatemala, Honduras, Colombia, Central African Republic, South Africa"
   ]
  },
  {
   "cell_type": "markdown",
   "metadata": {},
   "source": [
    "**France**"
   ]
  },
  {
   "cell_type": "code",
   "execution_count": 37,
   "metadata": {},
   "outputs": [
    {
     "data": {
      "text/html": [
       "<div>\n",
       "<style scoped>\n",
       "    .dataframe tbody tr th:only-of-type {\n",
       "        vertical-align: middle;\n",
       "    }\n",
       "\n",
       "    .dataframe tbody tr th {\n",
       "        vertical-align: top;\n",
       "    }\n",
       "\n",
       "    .dataframe thead th {\n",
       "        text-align: right;\n",
       "    }\n",
       "</style>\n",
       "<table border=\"1\" class=\"dataframe\">\n",
       "  <thead>\n",
       "    <tr style=\"text-align: right;\">\n",
       "      <th></th>\n",
       "      <th>ISO3</th>\n",
       "      <th>country</th>\n",
       "      <th>gini</th>\n",
       "    </tr>\n",
       "  </thead>\n",
       "  <tbody>\n",
       "    <tr>\n",
       "      <th>37</th>\n",
       "      <td>FRA</td>\n",
       "      <td>France</td>\n",
       "      <td>33.00</td>\n",
       "    </tr>\n",
       "  </tbody>\n",
       "</table>\n",
       "</div>"
      ],
      "text/plain": [
       "   ISO3 country  gini\n",
       "37  FRA  France 33.00"
      ]
     },
     "execution_count": 37,
     "metadata": {},
     "output_type": "execute_result"
    }
   ],
   "source": [
    "# La France\n",
    "fr = gi[gi['ISO3'].str.contains('FRA')]\n",
    "fr"
   ]
  },
  {
   "cell_type": "markdown",
   "metadata": {},
   "source": [
    "* La France est le 38e pays de la liste en terme d'égalité (2008)"
   ]
  },
  {
   "cell_type": "markdown",
   "metadata": {},
   "source": [
    "# Mission 3"
   ]
  },
  {
   "cell_type": "markdown",
   "metadata": {},
   "source": [
    "## Création du df Elasticity"
   ]
  },
  {
   "cell_type": "markdown",
   "metadata": {},
   "source": [
    "**Dafaframe elasticity**"
   ]
  },
  {
   "cell_type": "code",
   "execution_count": 38,
   "metadata": {},
   "outputs": [
    {
     "data": {
      "text/html": [
       "<div>\n",
       "<style scoped>\n",
       "    .dataframe tbody tr th:only-of-type {\n",
       "        vertical-align: middle;\n",
       "    }\n",
       "\n",
       "    .dataframe tbody tr th {\n",
       "        vertical-align: top;\n",
       "    }\n",
       "\n",
       "    .dataframe thead th {\n",
       "        text-align: right;\n",
       "    }\n",
       "</style>\n",
       "<table border=\"1\" class=\"dataframe\">\n",
       "  <thead>\n",
       "    <tr style=\"text-align: right;\">\n",
       "      <th></th>\n",
       "      <th>Base case</th>\n",
       "      <th>Optimistic (high mobility)</th>\n",
       "      <th>Pessimistic (low mobility)</th>\n",
       "    </tr>\n",
       "  </thead>\n",
       "  <tbody>\n",
       "    <tr>\n",
       "      <th>Nordic European countries and Canada</th>\n",
       "      <td>0.20</td>\n",
       "      <td>0.15</td>\n",
       "      <td>0.30</td>\n",
       "    </tr>\n",
       "    <tr>\n",
       "      <th>Europe (except nordic countries)</th>\n",
       "      <td>0.40</td>\n",
       "      <td>0.30</td>\n",
       "      <td>0.50</td>\n",
       "    </tr>\n",
       "    <tr>\n",
       "      <th>Australia/New Zealand/USA</th>\n",
       "      <td>0.40</td>\n",
       "      <td>0.30</td>\n",
       "      <td>0.50</td>\n",
       "    </tr>\n",
       "    <tr>\n",
       "      <th>Asia</th>\n",
       "      <td>0.50</td>\n",
       "      <td>0.40</td>\n",
       "      <td>0.60</td>\n",
       "    </tr>\n",
       "    <tr>\n",
       "      <th>Latin America/Africa</th>\n",
       "      <td>0.66</td>\n",
       "      <td>0.50</td>\n",
       "      <td>0.90</td>\n",
       "    </tr>\n",
       "  </tbody>\n",
       "</table>\n",
       "</div>"
      ],
      "text/plain": [
       "                                      Base case  Optimistic (high mobility)  \\\n",
       "Nordic European countries and Canada       0.20                        0.15   \n",
       "Europe (except nordic countries)           0.40                        0.30   \n",
       "Australia/New Zealand/USA                  0.40                        0.30   \n",
       "Asia                                       0.50                        0.40   \n",
       "Latin America/Africa                       0.66                        0.50   \n",
       "\n",
       "                                      Pessimistic (low mobility)  \n",
       "Nordic European countries and Canada                        0.30  \n",
       "Europe (except nordic countries)                            0.50  \n",
       "Australia/New Zealand/USA                                   0.50  \n",
       "Asia                                                        0.60  \n",
       "Latin America/Africa                                        0.90  "
      ]
     },
     "execution_count": 38,
     "metadata": {},
     "output_type": "execute_result"
    }
   ],
   "source": [
    "# import df elasticity régional\n",
    "elas = pd.read_excel('data/elasticity.xls', index_col=0)\n",
    "elas"
   ]
  },
  {
   "cell_type": "code",
   "execution_count": 39,
   "metadata": {},
   "outputs": [
    {
     "name": "stdout",
     "output_type": "stream",
     "text": [
      "pj    75\n",
      "dtype: int64\n"
     ]
    },
    {
     "data": {
      "text/html": [
       "<div>\n",
       "<style scoped>\n",
       "    .dataframe tbody tr th:only-of-type {\n",
       "        vertical-align: middle;\n",
       "    }\n",
       "\n",
       "    .dataframe tbody tr th {\n",
       "        vertical-align: top;\n",
       "    }\n",
       "\n",
       "    .dataframe thead th {\n",
       "        text-align: right;\n",
       "    }\n",
       "</style>\n",
       "<table border=\"1\" class=\"dataframe\">\n",
       "  <thead>\n",
       "    <tr style=\"text-align: right;\">\n",
       "      <th></th>\n",
       "      <th>pj</th>\n",
       "    </tr>\n",
       "    <tr>\n",
       "      <th>ISO3</th>\n",
       "      <th></th>\n",
       "    </tr>\n",
       "  </thead>\n",
       "  <tbody>\n",
       "    <tr>\n",
       "      <th>AFG</th>\n",
       "      <td>nan</td>\n",
       "    </tr>\n",
       "    <tr>\n",
       "      <th>AGO</th>\n",
       "      <td>nan</td>\n",
       "    </tr>\n",
       "  </tbody>\n",
       "</table>\n",
       "</div>"
      ],
      "text/plain": [
       "      pj\n",
       "ISO3    \n",
       "AFG  nan\n",
       "AGO  nan"
      ]
     },
     "execution_count": 39,
     "metadata": {},
     "output_type": "execute_result"
    }
   ],
   "source": [
    "# import IGEincome\n",
    "i = pd.read_csv('data/GDIMMay2018.csv', usecols=['iso3','IGEincome'])\n",
    "i.rename(columns={'iso3':'ISO3','IGEincome': 'pj'}, inplace=True)\n",
    "Pj = i.groupby('ISO3').mean()\n",
    "print(Pj.count())\n",
    "Pj.head(2)"
   ]
  },
  {
   "cell_type": "code",
   "execution_count": 40,
   "metadata": {},
   "outputs": [
    {
     "data": {
      "text/plain": [
       "ISO3    111\n",
       "dtype: int64"
      ]
     },
     "execution_count": 40,
     "metadata": {},
     "output_type": "execute_result"
    }
   ],
   "source": [
    "# import liste pays de l'étude\n",
    "c=pd.read_csv('data/wid_p7.csv', usecols=['ISO3'])\n",
    "l=pd.DataFrame(c.ISO3.unique())\n",
    "l.columns=['ISO3']\n",
    "l.count()"
   ]
  },
  {
   "cell_type": "code",
   "execution_count": 41,
   "metadata": {},
   "outputs": [
    {
     "name": "stdout",
     "output_type": "stream",
     "text": [
      "ISO3    111\n",
      "pj       65\n",
      "dtype: int64\n"
     ]
    },
    {
     "data": {
      "text/html": [
       "<div>\n",
       "<style scoped>\n",
       "    .dataframe tbody tr th:only-of-type {\n",
       "        vertical-align: middle;\n",
       "    }\n",
       "\n",
       "    .dataframe tbody tr th {\n",
       "        vertical-align: top;\n",
       "    }\n",
       "\n",
       "    .dataframe thead th {\n",
       "        text-align: right;\n",
       "    }\n",
       "</style>\n",
       "<table border=\"1\" class=\"dataframe\">\n",
       "  <thead>\n",
       "    <tr style=\"text-align: right;\">\n",
       "      <th></th>\n",
       "      <th>ISO3</th>\n",
       "      <th>pj</th>\n",
       "    </tr>\n",
       "  </thead>\n",
       "  <tbody>\n",
       "    <tr>\n",
       "      <th>0</th>\n",
       "      <td>ALB</td>\n",
       "      <td>0.82</td>\n",
       "    </tr>\n",
       "  </tbody>\n",
       "</table>\n",
       "</div>"
      ],
      "text/plain": [
       "  ISO3   pj\n",
       "0  ALB 0.82"
      ]
     },
     "execution_count": 41,
     "metadata": {},
     "output_type": "execute_result"
    }
   ],
   "source": [
    "# left join pays de l'étude\n",
    "le = pd.merge(l, Pj, how = 'left', on='ISO3')\n",
    "print(le.count())\n",
    "le.head(1)"
   ]
  },
  {
   "cell_type": "code",
   "execution_count": 42,
   "metadata": {},
   "outputs": [
    {
     "name": "stdout",
     "output_type": "stream",
     "text": [
      "ISO3    46\n",
      "pj       0\n",
      "dtype: int64\n"
     ]
    },
    {
     "data": {
      "text/html": [
       "<div>\n",
       "<style scoped>\n",
       "    .dataframe tbody tr th:only-of-type {\n",
       "        vertical-align: middle;\n",
       "    }\n",
       "\n",
       "    .dataframe tbody tr th {\n",
       "        vertical-align: top;\n",
       "    }\n",
       "\n",
       "    .dataframe thead th {\n",
       "        text-align: right;\n",
       "    }\n",
       "</style>\n",
       "<table border=\"1\" class=\"dataframe\">\n",
       "  <thead>\n",
       "    <tr style=\"text-align: right;\">\n",
       "      <th></th>\n",
       "      <th>ISO3</th>\n",
       "      <th>pj</th>\n",
       "    </tr>\n",
       "  </thead>\n",
       "  <tbody>\n",
       "    <tr>\n",
       "      <th>1</th>\n",
       "      <td>ARG</td>\n",
       "      <td>nan</td>\n",
       "    </tr>\n",
       "  </tbody>\n",
       "</table>\n",
       "</div>"
      ],
      "text/plain": [
       "  ISO3  pj\n",
       "1  ARG nan"
      ]
     },
     "execution_count": 42,
     "metadata": {},
     "output_type": "execute_result"
    }
   ],
   "source": [
    "# check NaN\n",
    "na = le[le.isnull().any(axis=1)]\n",
    "print(na.count())\n",
    "na.head(1)"
   ]
  },
  {
   "cell_type": "code",
   "execution_count": 43,
   "metadata": {},
   "outputs": [
    {
     "name": "stdout",
     "output_type": "stream",
     "text": [
      "ISO3    47\n",
      "pj      47\n",
      "dtype: int64\n"
     ]
    },
    {
     "data": {
      "text/html": [
       "<div>\n",
       "<style scoped>\n",
       "    .dataframe tbody tr th:only-of-type {\n",
       "        vertical-align: middle;\n",
       "    }\n",
       "\n",
       "    .dataframe tbody tr th {\n",
       "        vertical-align: top;\n",
       "    }\n",
       "\n",
       "    .dataframe thead th {\n",
       "        text-align: right;\n",
       "    }\n",
       "</style>\n",
       "<table border=\"1\" class=\"dataframe\">\n",
       "  <thead>\n",
       "    <tr style=\"text-align: right;\">\n",
       "      <th></th>\n",
       "      <th>ISO3</th>\n",
       "      <th>pj</th>\n",
       "    </tr>\n",
       "  </thead>\n",
       "  <tbody>\n",
       "    <tr>\n",
       "      <th>0</th>\n",
       "      <td>ARG</td>\n",
       "      <td>0.40</td>\n",
       "    </tr>\n",
       "  </tbody>\n",
       "</table>\n",
       "</div>"
      ],
      "text/plain": [
       "  ISO3   pj\n",
       "0  ARG 0.40"
      ]
     },
     "execution_count": 43,
     "metadata": {},
     "output_type": "execute_result"
    }
   ],
   "source": [
    "# import données manquantes = valeur régionale du fichier 'elasticity'\n",
    "missing_val=pd.read_excel('data/pj_na.xls', usecols=['ISO3','pj'])\n",
    "print(missing_val.count())\n",
    "missing_val.head(1)"
   ]
  },
  {
   "cell_type": "code",
   "execution_count": 44,
   "metadata": {},
   "outputs": [
    {
     "data": {
      "text/plain": [
       "ISO3    111\n",
       "pj      111\n",
       "dtype: int64"
      ]
     },
     "execution_count": 44,
     "metadata": {},
     "output_type": "execute_result"
    }
   ],
   "source": [
    "# on remplace NaN par la valeur régionale du fichier 'elasticity'df[df.name != 'Tina']\n",
    "elasticity=le.set_index(\"ISO3\").pj.fillna(missing_val.set_index(\"ISO3\").pj).reset_index()\n",
    "elasticity.sort_values(by=['ISO3'])\n",
    "elasticity.count()"
   ]
  },
  {
   "cell_type": "markdown",
   "metadata": {},
   "source": [
    "## Génération de l'échantillon Gaussien"
   ]
  },
  {
   "cell_type": "code",
   "execution_count": 45,
   "metadata": {},
   "outputs": [
    {
     "data": {
      "text/html": [
       "<div>\n",
       "<style scoped>\n",
       "    .dataframe tbody tr th:only-of-type {\n",
       "        vertical-align: middle;\n",
       "    }\n",
       "\n",
       "    .dataframe tbody tr th {\n",
       "        vertical-align: top;\n",
       "    }\n",
       "\n",
       "    .dataframe thead th {\n",
       "        text-align: right;\n",
       "    }\n",
       "</style>\n",
       "<table border=\"1\" class=\"dataframe\">\n",
       "  <thead>\n",
       "    <tr style=\"text-align: right;\">\n",
       "      <th></th>\n",
       "      <th>ISO3</th>\n",
       "      <th>pj</th>\n",
       "    </tr>\n",
       "  </thead>\n",
       "  <tbody>\n",
       "    <tr>\n",
       "      <th>0</th>\n",
       "      <td>ALB</td>\n",
       "      <td>0.82</td>\n",
       "    </tr>\n",
       "    <tr>\n",
       "      <th>1</th>\n",
       "      <td>ARG</td>\n",
       "      <td>0.40</td>\n",
       "    </tr>\n",
       "  </tbody>\n",
       "</table>\n",
       "</div>"
      ],
      "text/plain": [
       "  ISO3   pj\n",
       "0  ALB 0.82\n",
       "1  ARG 0.40"
      ]
     },
     "execution_count": 45,
     "metadata": {},
     "output_type": "execute_result"
    }
   ],
   "source": [
    "# df Elasticity\n",
    "elasticity.head(2)"
   ]
  },
  {
   "cell_type": "markdown",
   "metadata": {},
   "source": [
    "**Computation**"
   ]
  },
  {
   "cell_type": "code",
   "execution_count": 46,
   "metadata": {},
   "outputs": [],
   "source": [
    "# querry génération de l'échantillon\n",
    "Q3 = pd.DataFrame()\n",
    "\n",
    "for i in range(len(elasticity)):\n",
    "    \n",
    "    nb_quantiles = 100\n",
    "    n = 1000*nb_quantiles\n",
    "    pj = elasticity.loc[i]['pj']\n",
    "    \n",
    "    y_child, y_parents = sg.generate_incomes(n, pj)\n",
    "    e = elasticity.loc[i]['ISO3']\n",
    "\n",
    "    y_child = pd.Series(y_child)\n",
    "    y_parents = pd.Series(y_parents)\n",
    "\n",
    "    cq = sg.compute_quantiles(y_child, y_parents, nb_quantiles)\n",
    "    cq['ISO3'] = e\n",
    "    Q3 = Q3.append(cq, ignore_index = True)"
   ]
  },
  {
   "cell_type": "code",
   "execution_count": 47,
   "metadata": {},
   "outputs": [
    {
     "name": "stdout",
     "output_type": "stream",
     "text": [
      "Nombre d'individus : 11100000\n"
     ]
    },
    {
     "data": {
      "text/html": [
       "<div>\n",
       "<style scoped>\n",
       "    .dataframe tbody tr th:only-of-type {\n",
       "        vertical-align: middle;\n",
       "    }\n",
       "\n",
       "    .dataframe tbody tr th {\n",
       "        vertical-align: top;\n",
       "    }\n",
       "\n",
       "    .dataframe thead th {\n",
       "        text-align: right;\n",
       "    }\n",
       "</style>\n",
       "<table border=\"1\" class=\"dataframe\">\n",
       "  <thead>\n",
       "    <tr style=\"text-align: right;\">\n",
       "      <th></th>\n",
       "      <th>y_child</th>\n",
       "      <th>y_parents</th>\n",
       "      <th>c_i_child</th>\n",
       "      <th>c_i_parent</th>\n",
       "      <th>ISO3</th>\n",
       "    </tr>\n",
       "  </thead>\n",
       "  <tbody>\n",
       "    <tr>\n",
       "      <th>698</th>\n",
       "      <td>0.04</td>\n",
       "      <td>0.05</td>\n",
       "      <td>1</td>\n",
       "      <td>1</td>\n",
       "      <td>ALB</td>\n",
       "    </tr>\n",
       "    <tr>\n",
       "      <th>1133</th>\n",
       "      <td>0.01</td>\n",
       "      <td>0.08</td>\n",
       "      <td>1</td>\n",
       "      <td>1</td>\n",
       "      <td>ALB</td>\n",
       "    </tr>\n",
       "  </tbody>\n",
       "</table>\n",
       "</div>"
      ],
      "text/plain": [
       "      y_child  y_parents  c_i_child  c_i_parent ISO3\n",
       "698      0.04       0.05          1           1  ALB\n",
       "1133     0.01       0.08          1           1  ALB"
      ]
     },
     "execution_count": 47,
     "metadata": {},
     "output_type": "execute_result"
    }
   ],
   "source": [
    "# sortie\n",
    "Q3.sort_values(by=['ISO3', 'c_i_child', 'c_i_parent'],inplace=True)\n",
    "print(\"Nombre d'individus :\", Q3.ISO3.count())\n",
    "Q3.head(2)"
   ]
  },
  {
   "cell_type": "markdown",
   "metadata": {},
   "source": [
    "**Nettoyage**"
   ]
  },
  {
   "cell_type": "code",
   "execution_count": 48,
   "metadata": {},
   "outputs": [
    {
     "data": {
      "text/html": [
       "<div>\n",
       "<style scoped>\n",
       "    .dataframe tbody tr th:only-of-type {\n",
       "        vertical-align: middle;\n",
       "    }\n",
       "\n",
       "    .dataframe tbody tr th {\n",
       "        vertical-align: top;\n",
       "    }\n",
       "\n",
       "    .dataframe thead th {\n",
       "        text-align: right;\n",
       "    }\n",
       "</style>\n",
       "<table border=\"1\" class=\"dataframe\">\n",
       "  <thead>\n",
       "    <tr style=\"text-align: right;\">\n",
       "      <th></th>\n",
       "      <th>ISO3</th>\n",
       "      <th>c_i_child</th>\n",
       "      <th>c_i_parent</th>\n",
       "      <th>count</th>\n",
       "    </tr>\n",
       "  </thead>\n",
       "  <tbody>\n",
       "    <tr>\n",
       "      <th>0</th>\n",
       "      <td>ALB</td>\n",
       "      <td>1</td>\n",
       "      <td>1</td>\n",
       "      <td>208</td>\n",
       "    </tr>\n",
       "    <tr>\n",
       "      <th>1</th>\n",
       "      <td>ALB</td>\n",
       "      <td>1</td>\n",
       "      <td>2</td>\n",
       "      <td>107</td>\n",
       "    </tr>\n",
       "  </tbody>\n",
       "</table>\n",
       "</div>"
      ],
      "text/plain": [
       "  ISO3  c_i_child  c_i_parent  count\n",
       "0  ALB          1           1    208\n",
       "1  ALB          1           2    107"
      ]
     },
     "execution_count": 48,
     "metadata": {},
     "output_type": "execute_result"
    }
   ],
   "source": [
    "df=Q3.groupby(['ISO3','c_i_child','c_i_parent']).c_i_parent.count()\n",
    "df_final=pd.DataFrame(df)\n",
    "df_final.columns=['count']\n",
    "df_final.reset_index(inplace=True) \n",
    "df_final.head(2)"
   ]
  },
  {
   "cell_type": "code",
   "execution_count": 49,
   "metadata": {},
   "outputs": [
    {
     "data": {
      "text/plain": [
       "11100000"
      ]
     },
     "execution_count": 49,
     "metadata": {},
     "output_type": "execute_result"
    }
   ],
   "source": [
    "df_final['count'].sum()"
   ]
  },
  {
   "cell_type": "code",
   "execution_count": 50,
   "metadata": {},
   "outputs": [
    {
     "data": {
      "text/plain": [
       "ISO3          1081214\n",
       "c_i_child     1081214\n",
       "c_i_parent    1081214\n",
       "count         1081214\n",
       "dtype: int64"
      ]
     },
     "execution_count": 50,
     "metadata": {},
     "output_type": "execute_result"
    }
   ],
   "source": [
    "df_final.count()"
   ]
  },
  {
   "cell_type": "code",
   "execution_count": 51,
   "metadata": {},
   "outputs": [
    {
     "data": {
      "text/html": [
       "<div>\n",
       "<style scoped>\n",
       "    .dataframe tbody tr th:only-of-type {\n",
       "        vertical-align: middle;\n",
       "    }\n",
       "\n",
       "    .dataframe tbody tr th {\n",
       "        vertical-align: top;\n",
       "    }\n",
       "\n",
       "    .dataframe thead th {\n",
       "        text-align: right;\n",
       "    }\n",
       "</style>\n",
       "<table border=\"1\" class=\"dataframe\">\n",
       "  <thead>\n",
       "    <tr style=\"text-align: right;\">\n",
       "      <th></th>\n",
       "      <th>ISO3</th>\n",
       "      <th>c_i_child</th>\n",
       "      <th>c_i_parent</th>\n",
       "      <th>percent</th>\n",
       "    </tr>\n",
       "  </thead>\n",
       "  <tbody>\n",
       "    <tr>\n",
       "      <th>0</th>\n",
       "      <td>ALB</td>\n",
       "      <td>1</td>\n",
       "      <td>1</td>\n",
       "      <td>0.21</td>\n",
       "    </tr>\n",
       "    <tr>\n",
       "      <th>1</th>\n",
       "      <td>ALB</td>\n",
       "      <td>1</td>\n",
       "      <td>2</td>\n",
       "      <td>0.11</td>\n",
       "    </tr>\n",
       "  </tbody>\n",
       "</table>\n",
       "</div>"
      ],
      "text/plain": [
       "  ISO3  c_i_child  c_i_parent  percent\n",
       "0  ALB          1           1     0.21\n",
       "1  ALB          1           2     0.11"
      ]
     },
     "execution_count": 51,
     "metadata": {},
     "output_type": "execute_result"
    }
   ],
   "source": [
    "# transformation de count en %\n",
    "df_final['percent']=df_final['count']/100000*100\n",
    "df_final.drop(['count'], axis=1, inplace=True)\n",
    "df_final.head(2)"
   ]
  },
  {
   "cell_type": "markdown",
   "metadata": {},
   "source": [
    "## Graphiques distributions conditionnelles"
   ]
  },
  {
   "cell_type": "code",
   "execution_count": 52,
   "metadata": {},
   "outputs": [
    {
     "data": {
      "text/html": [
       "<div>\n",
       "<style scoped>\n",
       "    .dataframe tbody tr th:only-of-type {\n",
       "        vertical-align: middle;\n",
       "    }\n",
       "\n",
       "    .dataframe tbody tr th {\n",
       "        vertical-align: top;\n",
       "    }\n",
       "\n",
       "    .dataframe thead th {\n",
       "        text-align: right;\n",
       "    }\n",
       "</style>\n",
       "<table border=\"1\" class=\"dataframe\">\n",
       "  <thead>\n",
       "    <tr style=\"text-align: right;\">\n",
       "      <th></th>\n",
       "      <th>pj</th>\n",
       "    </tr>\n",
       "  </thead>\n",
       "  <tbody>\n",
       "    <tr>\n",
       "      <th>count</th>\n",
       "      <td>111.00</td>\n",
       "    </tr>\n",
       "    <tr>\n",
       "      <th>mean</th>\n",
       "      <td>0.53</td>\n",
       "    </tr>\n",
       "    <tr>\n",
       "      <th>std</th>\n",
       "      <td>0.20</td>\n",
       "    </tr>\n",
       "    <tr>\n",
       "      <th>min</th>\n",
       "      <td>0.11</td>\n",
       "    </tr>\n",
       "    <tr>\n",
       "      <th>25%</th>\n",
       "      <td>0.40</td>\n",
       "    </tr>\n",
       "    <tr>\n",
       "      <th>50%</th>\n",
       "      <td>0.50</td>\n",
       "    </tr>\n",
       "    <tr>\n",
       "      <th>75%</th>\n",
       "      <td>0.66</td>\n",
       "    </tr>\n",
       "    <tr>\n",
       "      <th>max</th>\n",
       "      <td>1.10</td>\n",
       "    </tr>\n",
       "  </tbody>\n",
       "</table>\n",
       "</div>"
      ],
      "text/plain": [
       "          pj\n",
       "count 111.00\n",
       "mean    0.53\n",
       "std     0.20\n",
       "min     0.11\n",
       "25%     0.40\n",
       "50%     0.50\n",
       "75%     0.66\n",
       "max     1.10"
      ]
     },
     "execution_count": 52,
     "metadata": {},
     "output_type": "execute_result"
    }
   ],
   "source": [
    "# Recherche des valeurs d'elasticity significatives de notre échantillon : Min, Max, quartiles\n",
    "elasticity.describe()"
   ]
  },
  {
   "cell_type": "code",
   "execution_count": 53,
   "metadata": {},
   "outputs": [
    {
     "data": {
      "image/png": "[encoded data removed]",
      "text/plain": [
       "<Figure size 576x93.6 with 1 Axes>"
      ]
     },
     "metadata": {},
     "output_type": "display_data"
    }
   ],
   "source": [
    "# 'length'\n",
    "sns.set(font_scale=1) \n",
    "sns.set_style(\"whitegrid\")\n",
    "plt.figure(figsize=(8,1.3))\n",
    "\n",
    "g=sns.boxplot(data=elasticity[['pj']],width =0.7,orient=\"h\")\n",
    "g.set(yticklabels=[])\n",
    "plt.xticks(size=14)\n",
    "\n",
    "plt.title(\"Elasticity\", fontsize=24, color = 'navy')\n",
    "plt.savefig('img/3.elas.boxplot.png', dpi=120, bbox_inches='tight')"
   ]
  },
  {
   "cell_type": "code",
   "execution_count": 54,
   "metadata": {},
   "outputs": [],
   "source": [
    "liste_E=[0.11,0.40,0.50,0.66,1.10]"
   ]
  },
  {
   "cell_type": "code",
   "execution_count": 55,
   "metadata": {
    "scrolled": true
   },
   "outputs": [
    {
     "data": {
      "image/png": "[encoded data removed]",
      "text/plain": [
       "<Figure size 432x288 with 1 Axes>"
      ]
     },
     "metadata": {},
     "output_type": "display_data"
    },
    {
     "data": {
      "image/png": "[encoded data removed]",
      "text/plain": [
       "<Figure size 432x288 with 1 Axes>"
      ]
     },
     "metadata": {},
     "output_type": "display_data"
    },
    {
     "data": {
      "image/png": "[encoded data removed]",
      "text/plain": [
       "<Figure size 432x288 with 1 Axes>"
      ]
     },
     "metadata": {},
     "output_type": "display_data"
    },
    {
     "data": {
      "image/png": "[encoded data removed]",
      "text/plain": [
       "<Figure size 432x288 with 1 Axes>"
      ]
     },
     "metadata": {},
     "output_type": "display_data"
    },
    {
     "data": {
      "image/png": "[encoded data removed]",
      "text/plain": [
       "<Figure size 432x288 with 1 Axes>"
      ]
     },
     "metadata": {},
     "output_type": "display_data"
    }
   ],
   "source": [
    "# choix des paramètres\n",
    "nb_quantiles = 10       # nombre de classes de revenu\n",
    "n = 1000*nb_quantiles   # taille de l'échantillon\n",
    "\n",
    "for pj in liste_E:\n",
    "    sns.set(font_scale=1) \n",
    "    sns.set_style(\"white\")\n",
    "    y_child, y_parents = sg.generate_incomes(n, pj)\n",
    "    sample = sg.compute_quantiles(y_child, y_parents, nb_quantiles)\n",
    "    cd = sg.conditional_distributions(sample, nb_quantiles)\n",
    "    sg.plot_conditional_distributions(pj, cd.T, nb_quantiles) # transpose cd"
   ]
  },
  {
   "cell_type": "markdown",
   "metadata": {},
   "source": [
    "## Création du dataframe final"
   ]
  },
  {
   "cell_type": "markdown",
   "metadata": {},
   "source": [
    "**Nouvel échantillon, clonage**"
   ]
  },
  {
   "cell_type": "code",
   "execution_count": 56,
   "metadata": {},
   "outputs": [
    {
     "name": "stdout",
     "output_type": "stream",
     "text": [
      "Nombre d'individus 5555338\n",
      "Nombre de pays : 111\n"
     ]
    },
    {
     "data": {
      "text/html": [
       "<div>\n",
       "<style scoped>\n",
       "    .dataframe tbody tr th:only-of-type {\n",
       "        vertical-align: middle;\n",
       "    }\n",
       "\n",
       "    .dataframe tbody tr th {\n",
       "        vertical-align: top;\n",
       "    }\n",
       "\n",
       "    .dataframe thead th {\n",
       "        text-align: right;\n",
       "    }\n",
       "</style>\n",
       "<table border=\"1\" class=\"dataframe\">\n",
       "  <thead>\n",
       "    <tr style=\"text-align: right;\">\n",
       "      <th></th>\n",
       "      <th>ISO3</th>\n",
       "      <th>classe_c</th>\n",
       "      <th>classe_p</th>\n",
       "    </tr>\n",
       "  </thead>\n",
       "  <tbody>\n",
       "    <tr>\n",
       "      <th>0</th>\n",
       "      <td>ALB</td>\n",
       "      <td>1</td>\n",
       "      <td>1</td>\n",
       "    </tr>\n",
       "  </tbody>\n",
       "</table>\n",
       "</div>"
      ],
      "text/plain": [
       "  ISO3  classe_c  classe_p\n",
       "0  ALB         1         1"
      ]
     },
     "execution_count": 56,
     "metadata": {},
     "output_type": "execute_result"
    }
   ],
   "source": [
    "x = round(df_final['percent']*500,0) \n",
    "\n",
    "#clonage du dataset\n",
    "classes = pd.DataFrame(np.repeat(df_final.values,x,axis=0))\n",
    "classes.columns = ['ISO3','c_i_child','c_i_parent','percent']\n",
    "classes.drop(['percent'], axis=1, inplace=True)\n",
    "classes[['c_i_child','c_i_parent']] = classes[['c_i_child','c_i_parent']].astype(int)\n",
    "classes.columns=['ISO3','classe_c','classe_p']\n",
    "\n",
    "print(\"Nombre d'individus\",classes.ISO3.count())\n",
    "print(\"Nombre de pays :\",classes.ISO3.nunique())\n",
    "classes.head(1)"
   ]
  },
  {
   "cell_type": "markdown",
   "metadata": {},
   "source": [
    "**Tables**"
   ]
  },
  {
   "cell_type": "code",
   "execution_count": 57,
   "metadata": {},
   "outputs": [
    {
     "name": "stdout",
     "output_type": "stream",
     "text": [
      "Nombre d'observations 11099\n"
     ]
    },
    {
     "data": {
      "text/html": [
       "<div>\n",
       "<style scoped>\n",
       "    .dataframe tbody tr th:only-of-type {\n",
       "        vertical-align: middle;\n",
       "    }\n",
       "\n",
       "    .dataframe tbody tr th {\n",
       "        vertical-align: top;\n",
       "    }\n",
       "\n",
       "    .dataframe thead th {\n",
       "        text-align: right;\n",
       "    }\n",
       "</style>\n",
       "<table border=\"1\" class=\"dataframe\">\n",
       "  <thead>\n",
       "    <tr style=\"text-align: right;\">\n",
       "      <th></th>\n",
       "      <th>ISO3</th>\n",
       "      <th>classe_c</th>\n",
       "      <th>income_c</th>\n",
       "      <th>country</th>\n",
       "      <th>gdp_pc</th>\n",
       "    </tr>\n",
       "  </thead>\n",
       "  <tbody>\n",
       "    <tr>\n",
       "      <th>0</th>\n",
       "      <td>ALB</td>\n",
       "      <td>1</td>\n",
       "      <td>728.90</td>\n",
       "      <td>Albania</td>\n",
       "      <td>8228.37</td>\n",
       "    </tr>\n",
       "    <tr>\n",
       "      <th>1</th>\n",
       "      <td>ALB</td>\n",
       "      <td>2</td>\n",
       "      <td>916.66</td>\n",
       "      <td>Albania</td>\n",
       "      <td>8228.37</td>\n",
       "    </tr>\n",
       "  </tbody>\n",
       "</table>\n",
       "</div>"
      ],
      "text/plain": [
       "  ISO3  classe_c  income_c  country  gdp_pc\n",
       "0  ALB         1    728.90  Albania 8228.37\n",
       "1  ALB         2    916.66  Albania 8228.37"
      ]
     },
     "execution_count": 57,
     "metadata": {},
     "output_type": "execute_result"
    }
   ],
   "source": [
    "# fichier wid\n",
    "wid=pd.read_csv('data/wid_p7.csv', index_col=0)\n",
    "wid.drop(['population'],axis=1,inplace=True)\n",
    "print(\"Nombre d'observations\",wid.ISO3.count())\n",
    "wid.head(2)"
   ]
  },
  {
   "cell_type": "code",
   "execution_count": 58,
   "metadata": {},
   "outputs": [
    {
     "name": "stdout",
     "output_type": "stream",
     "text": [
      "Nombre d'individus 111\n"
     ]
    },
    {
     "data": {
      "text/html": [
       "<div>\n",
       "<style scoped>\n",
       "    .dataframe tbody tr th:only-of-type {\n",
       "        vertical-align: middle;\n",
       "    }\n",
       "\n",
       "    .dataframe tbody tr th {\n",
       "        vertical-align: top;\n",
       "    }\n",
       "\n",
       "    .dataframe thead th {\n",
       "        text-align: right;\n",
       "    }\n",
       "</style>\n",
       "<table border=\"1\" class=\"dataframe\">\n",
       "  <thead>\n",
       "    <tr style=\"text-align: right;\">\n",
       "      <th></th>\n",
       "      <th>ISO3</th>\n",
       "      <th>gini</th>\n",
       "    </tr>\n",
       "  </thead>\n",
       "  <tbody>\n",
       "    <tr>\n",
       "      <th>94</th>\n",
       "      <td>SVN</td>\n",
       "      <td>23.70</td>\n",
       "    </tr>\n",
       "  </tbody>\n",
       "</table>\n",
       "</div>"
      ],
      "text/plain": [
       "   ISO3  gini\n",
       "94  SVN 23.70"
      ]
     },
     "execution_count": 58,
     "metadata": {},
     "output_type": "execute_result"
    }
   ],
   "source": [
    "# indice Gini\n",
    "g=gini.copy()\n",
    "g.drop(['country'],axis=1,inplace=True)\n",
    "g.columns = ['ISO3','gini']\n",
    "print(\"Nombre d'individus\",g.ISO3.count())\n",
    "g.head(1)"
   ]
  },
  {
   "cell_type": "markdown",
   "metadata": {},
   "source": [
    "**Merge**"
   ]
  },
  {
   "cell_type": "code",
   "execution_count": 59,
   "metadata": {},
   "outputs": [
    {
     "data": {
      "text/html": [
       "<div>\n",
       "<style scoped>\n",
       "    .dataframe tbody tr th:only-of-type {\n",
       "        vertical-align: middle;\n",
       "    }\n",
       "\n",
       "    .dataframe tbody tr th {\n",
       "        vertical-align: top;\n",
       "    }\n",
       "\n",
       "    .dataframe thead th {\n",
       "        text-align: right;\n",
       "    }\n",
       "</style>\n",
       "<table border=\"1\" class=\"dataframe\">\n",
       "  <thead>\n",
       "    <tr style=\"text-align: right;\">\n",
       "      <th></th>\n",
       "      <th>ISO3</th>\n",
       "      <th>classe_c</th>\n",
       "      <th>income_c</th>\n",
       "      <th>country</th>\n",
       "      <th>gdp_pc</th>\n",
       "      <th>gini</th>\n",
       "    </tr>\n",
       "  </thead>\n",
       "  <tbody>\n",
       "    <tr>\n",
       "      <th>0</th>\n",
       "      <td>ALB</td>\n",
       "      <td>1.00</td>\n",
       "      <td>728.90</td>\n",
       "      <td>Albania</td>\n",
       "      <td>8228.37</td>\n",
       "      <td>30.00</td>\n",
       "    </tr>\n",
       "    <tr>\n",
       "      <th>1</th>\n",
       "      <td>ALB</td>\n",
       "      <td>2.00</td>\n",
       "      <td>916.66</td>\n",
       "      <td>Albania</td>\n",
       "      <td>8228.37</td>\n",
       "      <td>30.00</td>\n",
       "    </tr>\n",
       "  </tbody>\n",
       "</table>\n",
       "</div>"
      ],
      "text/plain": [
       "  ISO3  classe_c  income_c  country  gdp_pc  gini\n",
       "0  ALB      1.00    728.90  Albania 8228.37 30.00\n",
       "1  ALB      2.00    916.66  Albania 8228.37 30.00"
      ]
     },
     "execution_count": 59,
     "metadata": {},
     "output_type": "execute_result"
    }
   ],
   "source": [
    "# merge wid~gini\n",
    "table=pd.merge(wid, g, on='ISO3', how='outer')\n",
    "table.head(2)"
   ]
  },
  {
   "cell_type": "code",
   "execution_count": 60,
   "metadata": {},
   "outputs": [
    {
     "name": "stdout",
     "output_type": "stream",
     "text": [
      "Nombre d'observations 5555338\n"
     ]
    },
    {
     "data": {
      "text/html": [
       "<div>\n",
       "<style scoped>\n",
       "    .dataframe tbody tr th:only-of-type {\n",
       "        vertical-align: middle;\n",
       "    }\n",
       "\n",
       "    .dataframe tbody tr th {\n",
       "        vertical-align: top;\n",
       "    }\n",
       "\n",
       "    .dataframe thead th {\n",
       "        text-align: right;\n",
       "    }\n",
       "</style>\n",
       "<table border=\"1\" class=\"dataframe\">\n",
       "  <thead>\n",
       "    <tr style=\"text-align: right;\">\n",
       "      <th></th>\n",
       "      <th>ISO3</th>\n",
       "      <th>classe_c</th>\n",
       "      <th>classe_p</th>\n",
       "      <th>income_c</th>\n",
       "      <th>country</th>\n",
       "      <th>gdp_pc</th>\n",
       "      <th>gini</th>\n",
       "    </tr>\n",
       "  </thead>\n",
       "  <tbody>\n",
       "    <tr>\n",
       "      <th>0</th>\n",
       "      <td>ALB</td>\n",
       "      <td>1</td>\n",
       "      <td>1</td>\n",
       "      <td>728.90</td>\n",
       "      <td>Albania</td>\n",
       "      <td>8228.37</td>\n",
       "      <td>30.00</td>\n",
       "    </tr>\n",
       "    <tr>\n",
       "      <th>1</th>\n",
       "      <td>ALB</td>\n",
       "      <td>1</td>\n",
       "      <td>1</td>\n",
       "      <td>728.90</td>\n",
       "      <td>Albania</td>\n",
       "      <td>8228.37</td>\n",
       "      <td>30.00</td>\n",
       "    </tr>\n",
       "  </tbody>\n",
       "</table>\n",
       "</div>"
      ],
      "text/plain": [
       "  ISO3  classe_c  classe_p  income_c  country  gdp_pc  gini\n",
       "0  ALB         1         1    728.90  Albania 8228.37 30.00\n",
       "1  ALB         1         1    728.90  Albania 8228.37 30.00"
      ]
     },
     "execution_count": 60,
     "metadata": {},
     "output_type": "execute_result"
    }
   ],
   "source": [
    "# merge table~classes\n",
    "df=pd.merge(classes, table, on=['ISO3','classe_c'], how='left')\n",
    "print(\"Nombre d'observations\",df.ISO3.count())\n",
    "df.head(2)"
   ]
  },
  {
   "cell_type": "markdown",
   "metadata": {},
   "source": [
    "**Revenus parents**"
   ]
  },
  {
   "cell_type": "code",
   "execution_count": 61,
   "metadata": {},
   "outputs": [
    {
     "name": "stdout",
     "output_type": "stream",
     "text": [
      "Nombre d'individus 11100\n"
     ]
    },
    {
     "data": {
      "text/html": [
       "<div>\n",
       "<style scoped>\n",
       "    .dataframe tbody tr th:only-of-type {\n",
       "        vertical-align: middle;\n",
       "    }\n",
       "\n",
       "    .dataframe tbody tr th {\n",
       "        vertical-align: top;\n",
       "    }\n",
       "\n",
       "    .dataframe thead th {\n",
       "        text-align: right;\n",
       "    }\n",
       "</style>\n",
       "<table border=\"1\" class=\"dataframe\">\n",
       "  <thead>\n",
       "    <tr style=\"text-align: right;\">\n",
       "      <th></th>\n",
       "      <th>ISO3</th>\n",
       "      <th>classe_p</th>\n",
       "      <th>income_p</th>\n",
       "    </tr>\n",
       "  </thead>\n",
       "  <tbody>\n",
       "    <tr>\n",
       "      <th>0</th>\n",
       "      <td>ALB</td>\n",
       "      <td>1</td>\n",
       "      <td>728.90</td>\n",
       "    </tr>\n",
       "    <tr>\n",
       "      <th>1</th>\n",
       "      <td>ALB</td>\n",
       "      <td>2</td>\n",
       "      <td>916.66</td>\n",
       "    </tr>\n",
       "  </tbody>\n",
       "</table>\n",
       "</div>"
      ],
      "text/plain": [
       "  ISO3  classe_p  income_p\n",
       "0  ALB         1    728.90\n",
       "1  ALB         2    916.66"
      ]
     },
     "execution_count": 61,
     "metadata": {},
     "output_type": "execute_result"
    }
   ],
   "source": [
    "# création des revenus parents\n",
    "rp=df[['ISO3','classe_c','income_c']].copy()\n",
    "x=rp.groupby(['ISO3','classe_c']).income_c.mean().reset_index()\n",
    "x.rename(columns={'classe_c':'classe_p','income_c':'income_p'},  inplace = True)\n",
    "print(\"Nombre d'individus\",x.ISO3.count())\n",
    "x.head(2)"
   ]
  },
  {
   "cell_type": "code",
   "execution_count": 62,
   "metadata": {},
   "outputs": [
    {
     "name": "stdout",
     "output_type": "stream",
     "text": [
      "Nombre d'individus 5505245\n"
     ]
    },
    {
     "data": {
      "text/html": [
       "<div>\n",
       "<style scoped>\n",
       "    .dataframe tbody tr th:only-of-type {\n",
       "        vertical-align: middle;\n",
       "    }\n",
       "\n",
       "    .dataframe tbody tr th {\n",
       "        vertical-align: top;\n",
       "    }\n",
       "\n",
       "    .dataframe thead th {\n",
       "        text-align: right;\n",
       "    }\n",
       "</style>\n",
       "<table border=\"1\" class=\"dataframe\">\n",
       "  <thead>\n",
       "    <tr style=\"text-align: right;\">\n",
       "      <th></th>\n",
       "      <th>ISO3</th>\n",
       "      <th>country</th>\n",
       "      <th>classe_c</th>\n",
       "      <th>income_c</th>\n",
       "      <th>classe_p</th>\n",
       "      <th>income_p</th>\n",
       "      <th>gdp_pc</th>\n",
       "      <th>gini</th>\n",
       "    </tr>\n",
       "  </thead>\n",
       "  <tbody>\n",
       "    <tr>\n",
       "      <th>0</th>\n",
       "      <td>ALB</td>\n",
       "      <td>Albania</td>\n",
       "      <td>1</td>\n",
       "      <td>728.90</td>\n",
       "      <td>1</td>\n",
       "      <td>728.90</td>\n",
       "      <td>8228.37</td>\n",
       "      <td>30.00</td>\n",
       "    </tr>\n",
       "  </tbody>\n",
       "</table>\n",
       "</div>"
      ],
      "text/plain": [
       "  ISO3  country  classe_c  income_c  classe_p  income_p  gdp_pc  gini\n",
       "0  ALB  Albania         1    728.90         1    728.90 8228.37 30.00"
      ]
     },
     "execution_count": 62,
     "metadata": {},
     "output_type": "execute_result"
    }
   ],
   "source": [
    "#ajout des revenus parents\n",
    "f=pd.merge(df,x, on=['ISO3','classe_p'], how='left' )\n",
    "f=f[['ISO3','country','classe_c','income_c','classe_p','income_p','gdp_pc','gini']]\n",
    "final=f[f.ISO3 != 'LTU']\n",
    "print(\"Nombre d'individus\",final.ISO3.count())\n",
    "final.head(1)"
   ]
  },
  {
   "cell_type": "markdown",
   "metadata": {},
   "source": [
    "**NaN**"
   ]
  },
  {
   "cell_type": "code",
   "execution_count": 63,
   "metadata": {},
   "outputs": [
    {
     "name": "stdout",
     "output_type": "stream",
     "text": [
      "Indice gini manquant pour les pays suivants : ['Cambodia']\n"
     ]
    }
   ],
   "source": [
    "na = final[final.isnull().any(axis=1)]\n",
    "print('Indice gini manquant pour les pays suivants :',na.country.unique())"
   ]
  },
  {
   "cell_type": "code",
   "execution_count": 64,
   "metadata": {},
   "outputs": [
    {
     "name": "stdout",
     "output_type": "stream",
     "text": [
      "Nombre d'observations : 5455255\n",
      "Nombre de pays : 109\n"
     ]
    }
   ],
   "source": [
    "final=final.dropna()\n",
    "print(\"Nombre d'observations :\",final.ISO3.count())\n",
    "print(\"Nombre de pays :\",final.ISO3.nunique())"
   ]
  },
  {
   "cell_type": "markdown",
   "metadata": {},
   "source": [
    "**Export fichier final**"
   ]
  },
  {
   "cell_type": "code",
   "execution_count": 65,
   "metadata": {},
   "outputs": [],
   "source": [
    "final.to_csv('data/final.csv')"
   ]
  },
  {
   "cell_type": "code",
   "execution_count": 66,
   "metadata": {},
   "outputs": [
    {
     "data": {
      "text/html": [
       "<div>\n",
       "<style scoped>\n",
       "    .dataframe tbody tr th:only-of-type {\n",
       "        vertical-align: middle;\n",
       "    }\n",
       "\n",
       "    .dataframe tbody tr th {\n",
       "        vertical-align: top;\n",
       "    }\n",
       "\n",
       "    .dataframe thead th {\n",
       "        text-align: right;\n",
       "    }\n",
       "</style>\n",
       "<table border=\"1\" class=\"dataframe\">\n",
       "  <thead>\n",
       "    <tr style=\"text-align: right;\">\n",
       "      <th></th>\n",
       "      <th>ISO3</th>\n",
       "      <th>country</th>\n",
       "      <th>classe_c</th>\n",
       "      <th>income_c</th>\n",
       "      <th>classe_p</th>\n",
       "      <th>income_p</th>\n",
       "      <th>gdp_pc</th>\n",
       "      <th>gini</th>\n",
       "    </tr>\n",
       "  </thead>\n",
       "  <tbody>\n",
       "    <tr>\n",
       "      <th>0</th>\n",
       "      <td>ALB</td>\n",
       "      <td>Albania</td>\n",
       "      <td>1</td>\n",
       "      <td>728.90</td>\n",
       "      <td>1</td>\n",
       "      <td>728.90</td>\n",
       "      <td>8228.37</td>\n",
       "      <td>30.00</td>\n",
       "    </tr>\n",
       "  </tbody>\n",
       "</table>\n",
       "</div>"
      ],
      "text/plain": [
       "  ISO3  country  classe_c  income_c  classe_p  income_p  gdp_pc  gini\n",
       "0  ALB  Albania         1    728.90         1    728.90 8228.37 30.00"
      ]
     },
     "execution_count": 66,
     "metadata": {},
     "output_type": "execute_result"
    }
   ],
   "source": [
    "final.head(1)"
   ]
  }
 ],
 "metadata": {
  "kernelspec": {
   "display_name": "Python 3",
   "language": "python",
   "name": "python3"
  },
  "language_info": {
   "codemirror_mode": {
    "name": "ipython",
    "version": 3
   },
   "file_extension": ".py",
   "mimetype": "text/x-python",
   "name": "python",
   "nbconvert_exporter": "python",
   "pygments_lexer": "ipython3",
   "version": "3.7.3"
  },
  "toc": {
   "base_numbering": "1",
   "nav_menu": {
    "height": "324px",
    "width": "324px"
   },
   "number_sections": true,
   "sideBar": true,
   "skip_h1_title": false,
   "title_cell": "Table des matières",
   "title_sidebar": "TDM",
   "toc_cell": true,
   "toc_position": {
    "height": "652px",
    "left": "31px",
    "top": "111.12px",
    "width": "388.15px"
   },
   "toc_section_display": true,
   "toc_window_display": true
  },
  "varInspector": {
   "cols": {
    "lenName": 16,
    "lenType": 16,
    "lenVar": 40
   },
   "kernels_config": {
    "python": {
     "delete_cmd_postfix": "",
     "delete_cmd_prefix": "del ",
     "library": "var_list.py",
     "varRefreshCmd": "print(var_dic_list())"
    },
    "r": {
     "delete_cmd_postfix": ") ",
     "delete_cmd_prefix": "rm(",
     "library": "var_list.r",
     "varRefreshCmd": "cat(var_dic_list()) "
    }
   },
   "position": {
    "height": "791px",
    "left": "1115.4px",
    "right": "20px",
    "top": "55px",
    "width": "350px"
   },
   "types_to_exclude": [
    "module",
    "function",
    "builtin_function_or_method",
    "instance",
    "_Feature"
   ],
   "window_display": false
  }
 },
 "nbformat": 4,
 "nbformat_minor": 2
}
